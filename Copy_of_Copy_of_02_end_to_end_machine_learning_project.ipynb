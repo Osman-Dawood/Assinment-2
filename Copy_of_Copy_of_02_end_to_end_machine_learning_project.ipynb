{
  "cells": [
    {
      "cell_type": "markdown",
      "source": [
        "# Setup"
      ],
      "metadata": {
        "id": "P-wUfqDyvHZL"
      }
    },
    {
      "cell_type": "code",
      "source": [
        "import pandas as pd\n",
        "import numpy as np"
      ],
      "metadata": {
        "id": "DvCqNH6RvEEj"
      },
      "execution_count": 557,
      "outputs": []
    },
    {
      "cell_type": "markdown",
      "source": [
        "## Download the Data"
      ],
      "metadata": {
        "id": "A9dE-FJ7vUJU"
      }
    },
    {
      "cell_type": "code",
      "execution_count": 558,
      "metadata": {
        "id": "6Xs1R8eA4ZRP"
      },
      "outputs": [],
      "source": [
        "housing = pd.read_csv('https://raw.githubusercontent.com/Osman-Dawood/IAI600-Lab2/refs/heads/main/housing.csv')"
      ]
    },
    {
      "cell_type": "markdown",
      "metadata": {
        "id": "5c9wa6IZ4ZRX"
      },
      "source": [
        "## Create a Test Set"
      ]
    },
    {
      "cell_type": "code",
      "source": [
        " # set income category based on median income\n",
        "housing[\"income_cat\"] = pd.cut(housing[\"median_income\"],\n",
        "                               bins=[0., 1.5, 3.0, 4.5, 6., np.inf],\n",
        "                               labels=[1, 2, 3, 4, 5])"
      ],
      "metadata": {
        "id": "7k2OZ4bcuJug"
      },
      "execution_count": 559,
      "outputs": []
    },
    {
      "cell_type": "code",
      "source": [
        "from sklearn.model_selection import StratifiedShuffleSplit\n",
        "    # stratified sampling\n",
        "split = StratifiedShuffleSplit(n_splits=10, test_size=0.2, random_state=42)\n",
        "for train_index, test_index in split.split(housing, housing[\"income_cat\"]):\n",
        "    # get train and test dataset\n",
        "    strat_train_set = housing.loc[train_index]\n",
        "    strat_test_set = housing.loc[test_index]"
      ],
      "metadata": {
        "id": "eqmauFD6tKj8"
      },
      "execution_count": 560,
      "outputs": []
    },
    {
      "cell_type": "markdown",
      "metadata": {
        "id": "Ssmr94zO4ZRu"
      },
      "source": [
        "# Prepare the Data for Machine Learning Algorithms:\n",
        "\n",
        "1. Dropping the Target Variable\n",
        "\n",
        "2. Creating Labels\n",
        "\n",
        "Feature Set (housing): This DataFrame will be used as the input features for training the machine learning model.\n",
        "\n",
        "Labels (housing_labels): This Series will be used as the target variable that the model will learn to predict."
      ]
    },
    {
      "cell_type": "code",
      "execution_count": 561,
      "metadata": {
        "id": "bzJyHS-n4ZRu"
      },
      "outputs": [],
      "source": [
        "# Dropping the Target Variable\n",
        "housing_tr= strat_train_set.drop(\"median_house_value\", axis=1)\n",
        "# Creates a copy of the selected column to avoid modifying the original DataFrame.\n",
        "housing_labels = strat_train_set[\"median_house_value\"].copy()"
      ]
    },
    {
      "cell_type": "markdown",
      "metadata": {
        "id": "hYXQsrb_4ZRu"
      },
      "source": [
        "## Data Cleaning\n",
        "Most machine learning algorithms cannot work with missing features. For example, we noticed earlier that the total_bedrooms\n",
        "attribute has some missing values."
      ]
    },
    {
      "cell_type": "markdown",
      "metadata": {
        "id": "gBGSmE7S4ZRv"
      },
      "source": [
        "#In the book 3 options for solution are listed:\n",
        "```python\n",
        "housing.dropna(subset=[\"total_bedrooms\"])    # option 1: Get rid of the corresponding districts.\n",
        "housing.drop(\"total_bedrooms\", axis=1)       # option 2: Get rid of the whole attribute.\n",
        "median = housing[\"total_bedrooms\"].median()  # option 3: Set the missing values to some value (zero, the mean, the median, etc.). This is called imputation\n",
        "housing[\"total_bedrooms\"].fillna(median, inplace=True)\n"
      ]
    },
    {
      "cell_type": "markdown",
      "source": [
        "We go for option 3 since it is the least destructive, but instead of the\n",
        "preceding code, we will use a handy Scikit-Learn class: SimpleImputer to find the median of the total_bedrooms, which will be used automatically in the following Transformation Pipelines."
      ],
      "metadata": {
        "id": "_hvnIUIdBYNw"
      }
    },
    {
      "cell_type": "markdown",
      "metadata": {
        "id": "6tpJnFtC4ZRx"
      },
      "source": [
        "Now remove the text attribute (ocean_proximity) because median can only be calculated on numerical attributes:"
      ]
    },
    {
      "cell_type": "code",
      "source": [
        "housing_num = housing_tr.drop(\"ocean_proximity\", axis=1)"
      ],
      "metadata": {
        "id": "jhTIymW1Kn40"
      },
      "execution_count": 562,
      "outputs": []
    },
    {
      "cell_type": "markdown",
      "source": [
        "Let's create a custom transformer to add extra attributes:\n",
        "\n"
      ],
      "metadata": {
        "id": "8MWgr2GY08jL"
      }
    },
    {
      "cell_type": "code",
      "source": [
        "from sklearn.base import BaseEstimator, TransformerMixin\n",
        "\n",
        "# column index\n",
        "rooms_ix, bedrooms_ix, population_ix, households_ix = 3, 4, 5, 6\n",
        "\n",
        "class CombinedAttributesAdder(BaseEstimator, TransformerMixin):\n",
        "    def __init__(self, add_bedrooms_per_room=True): # no *args or **kargs\n",
        "        self.add_bedrooms_per_room = add_bedrooms_per_room\n",
        "    def fit(self, X, y=None):\n",
        "        return self  # nothing else to do\n",
        "    def transform(self, X):\n",
        "        rooms_per_household = X[:, rooms_ix] / X[:, households_ix]\n",
        "        population_per_household = X[:, population_ix] / X[:, households_ix]\n",
        "        if self.add_bedrooms_per_room:\n",
        "            bedrooms_per_room = X[:, bedrooms_ix] / X[:, rooms_ix]\n",
        "            return np.c_[X, rooms_per_household, population_per_household,\n",
        "                         bedrooms_per_room]\n",
        "        else:\n",
        "            return np.c_[X, rooms_per_household, population_per_household]\n",
        "\n",
        "attr_adder = CombinedAttributesAdder(add_bedrooms_per_room=False)\n",
        "housing_extra_attribs = attr_adder.transform(housing.values)"
      ],
      "metadata": {
        "id": "ZBqSlgnArDT9"
      },
      "execution_count": 563,
      "outputs": []
    },
    {
      "cell_type": "markdown",
      "metadata": {
        "id": "nfCQgGo54ZSF"
      },
      "source": [
        "## Transformation Pipelines\n",
        "\n"
      ]
    },
    {
      "cell_type": "markdown",
      "source": [
        "ColumnTransformer can transform  the numerical attributes & category/text attributes both together"
      ],
      "metadata": {
        "id": "lv8ycct_XKul"
      }
    },
    {
      "cell_type": "code",
      "execution_count": 564,
      "metadata": {
        "id": "CQoYQmnP4ZSF"
      },
      "outputs": [],
      "source": [
        "from sklearn.compose import ColumnTransformer\n",
        "from sklearn.pipeline import Pipeline\n",
        "from sklearn.preprocessing import StandardScaler\n",
        "from sklearn.impute import SimpleImputer\n",
        "\n",
        "from sklearn.preprocessing import OneHotEncoder\n",
        "\n",
        "num_attribs = list(housing_num)\n",
        "cat_attribs = [\"ocean_proximity\"]\n",
        "\n",
        "num_pipeline = Pipeline([\n",
        "        ('imputer', SimpleImputer(strategy=\"median\")),\n",
        "        ('attribs_adder', CombinedAttributesAdder()),\n",
        "        ('std_scaler', StandardScaler()),\n",
        "    ])\n",
        "\n",
        "cat_pipeline = Pipeline([\n",
        "     ('imputer', SimpleImputer(strategy='most_frequent')),\n",
        "        ('cat_encoder', OneHotEncoder()),\n",
        "    ])\n",
        "full_pipeline = ColumnTransformer([\n",
        "        ('num', num_pipeline, num_attribs),\n",
        "        ('cat', cat_pipeline, cat_attribs),\n",
        "    ])\n",
        "\n",
        "housing_prepared = full_pipeline.fit_transform(housing_tr)"
      ]
    },
    {
      "cell_type": "code",
      "execution_count": 565,
      "metadata": {
        "id": "pXsqE8Fo4ZSG",
        "colab": {
          "base_uri": "https://localhost:8080/"
        },
        "outputId": "063b087b-6605-4979-b6b8-aa11e0aad080"
      },
      "outputs": [
        {
          "output_type": "execute_result",
          "data": {
            "text/plain": [
              "(16512, 17)"
            ]
          },
          "metadata": {},
          "execution_count": 565
        }
      ],
      "source": [
        "housing_prepared.shape"
      ]
    },
    {
      "cell_type": "markdown",
      "metadata": {
        "id": "ORoic-JRbOwu"
      },
      "source": [
        "# Select and Train a Model"
      ]
    },
    {
      "cell_type": "markdown",
      "metadata": {
        "id": "3-I6nAJ0bOwv"
      },
      "source": [
        "## Training and Evaluating on the Training Set"
      ]
    },
    {
      "cell_type": "markdown",
      "source": [
        "Linear Regression"
      ],
      "metadata": {
        "id": "gPjhfh5KbW_t"
      }
    },
    {
      "cell_type": "code",
      "execution_count": 566,
      "metadata": {
        "colab": {
          "base_uri": "https://localhost:8080/"
        },
        "outputId": "0b685278-bcd5-404d-cb93-50153413af15",
        "id": "eld_7n3LKaid"
      },
      "outputs": [
        {
          "output_type": "stream",
          "name": "stdout",
          "text": [
            "\n",
            "  Prediction RMSE error in : 67815.61655105946\n",
            "\n",
            "  Predictions: [180200.0, 156700.0, 107500.0, 351200.0, 166900.0]\n",
            "  Labels:      [124900.0, 152800.0, 70200.0, 404300.0, 133500.0]\n"
          ]
        }
      ],
      "source": [
        "from sklearn.linear_model import LinearRegression\n",
        "from sklearn.metrics import mean_squared_error\n",
        "lin_reg = LinearRegression()\n",
        "\n",
        "# training by fitting inputs and outputs\n",
        "lin_reg.fit(housing_prepared, housing_labels)\n",
        "\n",
        "# Prediction error\n",
        "housing_predictions = lin_reg.predict(housing_prepared)\n",
        "mse = mean_squared_error(housing_labels, housing_predictions)\n",
        "rmse = np.sqrt(mse)\n",
        "print(\"\\n  Prediction RMSE error in :\", rmse)\n",
        "\n",
        "# let's try the full preprocessing pipeline on a few training instance\n",
        "some_data = housing_tr.iloc[:5]\n",
        "some_labels = housing_labels.iloc[:5]\n",
        "some_data_prepared = full_pipeline.transform(some_data)\n",
        "\n",
        "# Compare\n",
        "print(\"\\n  Predictions:\", list(lin_reg.predict(some_data_prepared).round(-2)))\n",
        "print(\"  Labels:     \", list(some_labels.round(-2)))\n"
      ]
    },
    {
      "cell_type": "markdown",
      "source": [
        "Decision Tree Regressor"
      ],
      "metadata": {
        "id": "0a4kI0NNbdy_"
      }
    },
    {
      "cell_type": "code",
      "execution_count": 567,
      "metadata": {
        "colab": {
          "base_uri": "https://localhost:8080/"
        },
        "outputId": "e91e71c3-87e6-4191-cbe0-c9c5c5eb9cbd",
        "id": "4Vj3VTdPKaid"
      },
      "outputs": [
        {
          "output_type": "stream",
          "name": "stdout",
          "text": [
            "\n",
            "  Prediction RMSE error in : 0.0\n",
            "\n",
            "  Predictions: [124900.0, 152800.0, 70200.0, 404300.0, 133500.0]\n",
            "  Labels:      [124900.0, 152800.0, 70200.0, 404300.0, 133500.0]\n"
          ]
        }
      ],
      "source": [
        "from sklearn.tree import DecisionTreeRegressor\n",
        "\n",
        "tree_reg = DecisionTreeRegressor(random_state=42)\n",
        "\n",
        "# training by fitting inputs and outputs\n",
        "tree_reg.fit(housing_prepared, housing_labels)\n",
        "\n",
        "# Prediction error\n",
        "housing_predictions = tree_reg.predict(housing_prepared)\n",
        "mse = mean_squared_error(housing_labels, housing_predictions)\n",
        "rmse = np.sqrt(mse)\n",
        "print(\"\\n  Prediction RMSE error in :\", rmse)\n",
        "\n",
        "# let's try the full preprocessing pipeline on a few training instance\n",
        "some_data = housing_tr.iloc[:5]\n",
        "some_labels = housing_labels.iloc[:5]\n",
        "some_data_prepared = full_pipeline.transform(some_data)\n",
        "\n",
        "# Compare\n",
        "print(\"\\n  Predictions:\", list(tree_reg.predict(some_data_prepared).round(-2)))\n",
        "print(\"  Labels:     \", list(some_labels.round(-2)))"
      ]
    },
    {
      "cell_type": "markdown",
      "source": [
        "This model gave zero prediction error, so either it is absolutely perfector it badly overfitted the data which is more likely.To be sure  we use  \n",
        "\n",
        "\n",
        "\n"
      ],
      "metadata": {
        "id": "toYRTt3Et_QG"
      }
    },
    {
      "cell_type": "markdown",
      "source": [
        "This model gave zero prediction error, so either it is absolutely perfector it badly overfitted the data which is more likely.To be sure  we use Cross-Validation technique.\n",
        "\n",
        "\n",
        "\n"
      ],
      "metadata": {
        "id": "vULbDdBRwMP9"
      }
    },
    {
      "cell_type": "markdown",
      "metadata": {
        "id": "YtnrPjKbsv0s"
      },
      "source": [
        "## Better Evaluation Using Cross-Validation"
      ]
    },
    {
      "cell_type": "code",
      "execution_count": 568,
      "metadata": {
        "id": "n5xOPN3zsv0s"
      },
      "outputs": [],
      "source": [
        "from sklearn.model_selection import cross_val_score\n",
        "\n",
        "scores = cross_val_score(tree_reg, housing_prepared, housing_labels,\n",
        "                         scoring=\"neg_mean_squared_error\", cv=10)\n",
        "tree_rmse_scores = np.sqrt(-scores)"
      ]
    },
    {
      "cell_type": "code",
      "execution_count": 569,
      "metadata": {
        "id": "eFza-rlssv0s",
        "outputId": "00648f28-b9e7-4cdd-b253-7be23009628c",
        "colab": {
          "base_uri": "https://localhost:8080/"
        }
      },
      "outputs": [
        {
          "output_type": "stream",
          "name": "stdout",
          "text": [
            "Scores: [71754.39700636 67826.46551675 70523.2774544  71051.59739052\n",
            " 72667.29052315 68953.276044   67655.42303425 72262.81056809\n",
            " 71013.83896093 66377.11736207]\n",
            "Mean: 70008.54938605212\n",
            "Standard deviation: 2053.3308814942884\n"
          ]
        }
      ],
      "source": [
        "def display_scores(scores):\n",
        "    print(\"Scores:\", scores)\n",
        "    print(\"Mean:\", scores.mean())\n",
        "    print(\"Standard deviation:\", scores.std())\n",
        "\n",
        "display_scores(tree_rmse_scores)"
      ]
    },
    {
      "cell_type": "markdown",
      "source": [
        "The decision tree has an RMSE of about 69907 when cv=10 used (the training set split into 10 nonoverlapping subsets called folds, then it trains and evaluates the decision tree model 10 times, picking a different fold for evaluation every time and using the other 9 folds for training)."
      ],
      "metadata": {
        "id": "5U0JFT2exjH2"
      }
    },
    {
      "cell_type": "markdown",
      "source": [
        "Using Cross-Validation with the previous Linear Regression model"
      ],
      "metadata": {
        "id": "SwPsfwK_3Bkb"
      }
    },
    {
      "cell_type": "code",
      "execution_count": 570,
      "metadata": {
        "id": "t2NNiByCsv0t",
        "outputId": "7d307bfb-a9ef-4212-b56e-404a6466d5f5",
        "colab": {
          "base_uri": "https://localhost:8080/"
        }
      },
      "outputs": [
        {
          "output_type": "stream",
          "name": "stdout",
          "text": [
            "Scores: [69190.53416178 66420.79322463 67997.84059038 72169.33079522\n",
            " 67928.19837154 67401.4978209  66240.69391457 67694.84830544\n",
            " 67828.61900541 67484.24315304]\n",
            "Mean: 68035.65993429087\n",
            "Standard deviation: 1585.20931189741\n"
          ]
        }
      ],
      "source": [
        "lin_scores = cross_val_score(lin_reg, housing_prepared, housing_labels,\n",
        "                             scoring=\"neg_mean_squared_error\", cv=10)\n",
        "lin_rmse_scores = np.sqrt(-lin_scores)\n",
        "display_scores(lin_rmse_scores)"
      ]
    },
    {
      "cell_type": "markdown",
      "source": [
        "Random Forest Regressor"
      ],
      "metadata": {
        "id": "bhXPfgrpbkqG"
      }
    },
    {
      "cell_type": "code",
      "execution_count": 571,
      "metadata": {
        "colab": {
          "base_uri": "https://localhost:8080/"
        },
        "outputId": "f42817b9-6df6-42cf-c6e0-c7285a5a8e00",
        "id": "f6AYEhrHGkAr"
      },
      "outputs": [
        {
          "output_type": "stream",
          "name": "stdout",
          "text": [
            "\n",
            "  Prediction RMSE error in : 18685.28707998014\n",
            "\n",
            "  Predictions: [144600.0, 147600.0, 77900.0, 391400.0, 140300.0]\n",
            "  Labels:      [124900.0, 152800.0, 70200.0, 404300.0, 133500.0]\n"
          ]
        }
      ],
      "source": [
        "from sklearn.ensemble import RandomForestRegressor\n",
        "\n",
        "forest_reg = RandomForestRegressor(n_estimators=100, random_state=42)\n",
        "forest_reg.fit(housing_prepared, housing_labels)\n",
        "\n",
        "# Prediction error\n",
        "housing_predictions = forest_reg.predict(housing_prepared)\n",
        "mse = mean_squared_error(housing_labels, housing_predictions)\n",
        "rmse = np.sqrt(mse)\n",
        "print(\"\\n  Prediction RMSE error in :\", rmse)\n",
        "\n",
        "# let's try the full preprocessing pipeline on a few training instance\n",
        "some_data = housing_tr.iloc[:5]\n",
        "some_labels = housing_labels.iloc[:5]\n",
        "some_data_prepared = full_pipeline.transform(some_data)\n",
        "\n",
        "# Compare\n",
        "print(\"\\n  Predictions:\", list(forest_reg.predict(some_data_prepared).round(-2)))\n",
        "print(\"  Labels:     \", list(some_labels.round(-2)))"
      ]
    },
    {
      "cell_type": "markdown",
      "source": [
        "The Random Forest Regressor has a RMSE of  18685 which is much lower, meaning that there’s still quite alot of overfitting going on."
      ],
      "metadata": {
        "id": "tFdUEs5x6Rr9"
      }
    },
    {
      "cell_type": "markdown",
      "source": [
        "Cross-Validation with the previous Random\n",
        "Forest Regressor"
      ],
      "metadata": {
        "id": "YiFLNopC8Itl"
      }
    },
    {
      "cell_type": "code",
      "execution_count": 572,
      "metadata": {
        "id": "YSvXJcFzsv0t",
        "outputId": "aecf81a4-8b8e-494e-9a44-485623e2d3e8",
        "colab": {
          "base_uri": "https://localhost:8080/"
        }
      },
      "outputs": [
        {
          "output_type": "stream",
          "name": "stdout",
          "text": [
            "Scores: [51515.02341353 47842.19465139 48449.21009759 51154.32029753\n",
            " 51863.96236256 51201.91831795 50327.43517532 49622.47478138\n",
            " 49627.68487174 49232.83598767]\n",
            "Mean: 50083.70599566528\n",
            "Standard deviation: 1285.0921831892194\n"
          ]
        }
      ],
      "source": [
        "from sklearn.model_selection import cross_val_score\n",
        "\n",
        "forest_scores = cross_val_score(forest_reg, housing_prepared, housing_labels,\n",
        "                                scoring=\"neg_mean_squared_error\", cv=10)\n",
        "forest_rmse_scores = np.sqrt(-forest_scores)\n",
        "display_scores(forest_rmse_scores)"
      ]
    },
    {
      "cell_type": "markdown",
      "source": [
        "Support Vector Regression SVR"
      ],
      "metadata": {
        "id": "k2tNn-LQbpgd"
      }
    },
    {
      "cell_type": "code",
      "execution_count": 573,
      "metadata": {
        "colab": {
          "base_uri": "https://localhost:8080/"
        },
        "outputId": "78d5905f-375d-40f8-8a5a-10116cb0e1a0",
        "id": "YbczAFbMHbJ1"
      },
      "outputs": [
        {
          "output_type": "stream",
          "name": "stdout",
          "text": [
            "\n",
            "  Prediction RMSE error in : 106385.05123428142\n",
            "\n",
            "  Predictions: [195900.0, 180600.0, 187200.0, 207800.0, 182700.0]\n",
            "  Labels:      [124900.0, 152800.0, 70200.0, 404300.0, 133500.0]\n"
          ]
        }
      ],
      "source": [
        "from sklearn.svm import SVR\n",
        "\n",
        "svm_reg = SVR(kernel=\"linear\")\n",
        "svm_reg.fit(housing_prepared, housing_labels)\n",
        "\n",
        "# Prediction error\n",
        "housing_predictions = svm_reg.predict(housing_prepared)\n",
        "mse = mean_squared_error(housing_labels, housing_predictions)\n",
        "rmse = np.sqrt(mse)\n",
        "print(\"\\n  Prediction RMSE error in :\", rmse)\n",
        "\n",
        "# let's try the full preprocessing pipeline on a few training instance\n",
        "some_data = housing_tr.iloc[:5].round(-2)\n",
        "some_labels = housing_labels.iloc[:5]\n",
        "some_data_prepared = full_pipeline.transform(some_data)\n",
        "# Compare\n",
        "print(\"\\n  Predictions:\", list(svm_reg.predict(some_data_prepared).round(-2)))\n",
        "print(\"  Labels:     \", list(some_labels.round(-2)))"
      ]
    },
    {
      "cell_type": "markdown",
      "source": [
        "The Random Forest model has an RMSE of about 50083.7 when cv=10 used, and still lowest among all the other three models as shown in the gragh below.\n",
        "\n"
      ],
      "metadata": {
        "id": "8xbHarpAcO5J"
      }
    },
    {
      "cell_type": "markdown",
      "source": [
        "Model training Errors"
      ],
      "metadata": {
        "id": "dn6A96_V3mhg"
      }
    },
    {
      "cell_type": "code",
      "source": [
        "import matplotlib.pyplot as plt\n",
        "\n",
        "models = ['Linear', '\\n Decision Tree', 'Random Forest', '\\n SVM']\n",
        "rmse_values = [67815.6, 0, 18685.3,  106385]\n",
        "colors = ['red', 'orange', 'green', 'blue' ]\n",
        "\n",
        "plt.figure(figsize=(5, 4))\n",
        "plt.bar(models, rmse_values, color=colors)\n",
        "\n",
        "plt.ylabel('RMSE Value')\n",
        "plt.xlabel('\\n Regression Models')\n",
        "plt.title('Comparison of RMSE Values Across Different Models')\n",
        "plt.show()"
      ],
      "metadata": {
        "colab": {
          "base_uri": "https://localhost:8080/",
          "height": 443
        },
        "id": "Z4FEiqJQ2cXZ",
        "outputId": "3512b30c-aa01-40e3-d647-f19b1e73f100"
      },
      "execution_count": 574,
      "outputs": [
        {
          "output_type": "display_data",
          "data": {
            "text/plain": [
              "<Figure size 500x400 with 1 Axes>"
            ],
            "image/png": "[encoded data removed]"
          },
          "metadata": {}
        }
      ]
    },
    {
      "cell_type": "markdown",
      "source": [
        " After Using Cross-Validation (Validation Errors)"
      ],
      "metadata": {
        "id": "6baXsC6W2ezI"
      }
    },
    {
      "cell_type": "code",
      "source": [
        "import matplotlib.pyplot as plt\n",
        "\n",
        "models = ['Linear', '\\n Decision Tree', 'Random Forest', '\\n SVM']\n",
        "rmse_values = [68035.6, 70008.5, 50083.7,  106385]\n",
        "colors = ['red', 'orange', 'green', 'blue' ]\n",
        "\n",
        "plt.figure(figsize=(5, 4))\n",
        "plt.bar(models, rmse_values, color=colors)\n",
        "\n",
        "plt.ylabel('RMSE Value')\n",
        "plt.xlabel('\\n Regression Models')\n",
        "plt.title('Comparison of RMSE Values Across Different Models')\n",
        "plt.show()"
      ],
      "metadata": {
        "colab": {
          "base_uri": "https://localhost:8080/",
          "height": 443
        },
        "id": "Yh_eO4J4aw0U",
        "outputId": "2d714842-308c-4820-9407-96f66f18b863"
      },
      "execution_count": 575,
      "outputs": [
        {
          "output_type": "display_data",
          "data": {
            "text/plain": [
              "<Figure size 500x400 with 1 Axes>"
            ],
            "image/png": "[encoded data removed]"
          },
          "metadata": {}
        }
      ]
    },
    {
      "cell_type": "markdown",
      "source": [
        "Among all the four ML models used the random forests look very promising for this task!"
      ],
      "metadata": {
        "id": "qR4iGUa44lbl"
      }
    }
  ],
  "metadata": {
    "kernelspec": {
      "display_name": "Python 3",
      "language": "python",
      "name": "python3"
    },
    "language_info": {
      "codemirror_mode": {
        "name": "ipython",
        "version": 3
      },
      "file_extension": ".py",
      "mimetype": "text/x-python",
      "name": "python",
      "nbconvert_exporter": "python",
      "pygments_lexer": "ipython3",
      "version": "3.7.10"
    },
    "nav_menu": {
      "height": "279px",
      "width": "309px"
    },
    "toc": {
      "nav_menu": {},
      "number_sections": true,
      "sideBar": true,
      "skip_h1_title": false,
      "toc_cell": false,
      "toc_position": {},
      "toc_section_display": "block",
      "toc_window_display": false
    },
    "colab": {
      "provenance": []
    }
  },
  "nbformat": 4,
  "nbformat_minor": 0
}