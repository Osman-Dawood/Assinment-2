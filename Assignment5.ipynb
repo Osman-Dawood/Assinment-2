{
  "cells": [
    {
      "cell_type": "markdown",
      "metadata": {
        "id": "view-in-github",
        "colab_type": "text"
      },
      "source": [
        "<a href=\"https://colab.research.google.com/github/Osman-Dawood/Assinment-2/blob/main/Assignment5.ipynb\" target=\"_parent\"><img src=\"https://colab.research.google.com/assets/colab-badge.svg\" alt=\"Open In Colab\"/></a>"
      ]
    },
    {
      "cell_type": "markdown",
      "metadata": {
        "id": "2a72e1bc-3816-4ee0-a7b2-2676ba4da2ed"
      },
      "source": [
        "# Setup"
      ]
    },
    {
      "cell_type": "code",
      "execution_count": null,
      "metadata": {
        "id": "011dc295-e8b8-4b76-97e3-b859bb9dee25"
      },
      "outputs": [],
      "source": [
        "# Import necessary libraries\n",
        "import os\n",
        "%matplotlib inline\n",
        "import matplotlib as mpl\n",
        "import matplotlib.pyplot as plt\n",
        "from sklearn.datasets import fetch_openml\n",
        "from sklearn.svm import SVC\n",
        "import time\n",
        "from sklearn.ensemble import RandomForestClassifier\n",
        "from sklearn.model_selection import GridSearchCV\n",
        "from sklearn.model_selection import train_test_split\n",
        "from sklearn.preprocessing import StandardScaler\n",
        "from sklearn.metrics import classification_report\n",
        "from sklearn.linear_model import SGDClassifier\n",
        "from sklearn.neighbors import KNeighborsClassifier\n",
        "from sklearn.metrics import accuracy_score\n",
        "from sklearn.metrics import confusion_matrix\n",
        "from sklearn.metrics import classification_report\n",
        "from sklearn.metrics import classification_report, precision_score, recall_score, f1_score\n",
        "import numpy as np\n",
        "import pandas as pd"
      ]
    },
    {
      "cell_type": "markdown",
      "metadata": {
        "id": "616035ff-2628-49df-91f3-cc64f2819a7b"
      },
      "source": [
        "# Get MNIST Dataset"
      ]
    },
    {
      "cell_type": "code",
      "execution_count": null,
      "metadata": {
        "id": "6352f76e-f669-4de5-ba7d-874c84ec7bb5"
      },
      "outputs": [],
      "source": [
        "# Load MNIST dataset from OpenML\n",
        "mnist = fetch_openml('mnist_784', version=1, as_frame=False)\n",
        "X, y = mnist[\"data\"], mnist[\"target\"]\n",
        "\n",
        "# Convert target to integers (it may come as string)\n",
        "y = y.astype(np.uint8)"
      ]
    },
    {
      "cell_type": "code",
      "execution_count": null,
      "metadata": {
        "id": "183747f2-d0ac-412d-bd11-ed4bc9bc34f8",
        "outputId": "58df0bc2-6f59-4770-d89c-728ff5a311f2"
      },
      "outputs": [
        {
          "data": {
            "text/plain": [
              "(70000,)"
            ]
          },
          "execution_count": 132,
          "metadata": {},
          "output_type": "execute_result"
        }
      ],
      "source": [
        "y.shape"
      ]
    },
    {
      "cell_type": "code",
      "execution_count": null,
      "metadata": {
        "id": "a936247f-7b16-4d1d-b854-79335f46b61c",
        "outputId": "803a1165-9b26-4bd0-8e4f-b2d78c21e4b8"
      },
      "outputs": [
        {
          "data": {
            "text/plain": [
              "(70000, 784)"
            ]
          },
          "execution_count": 134,
          "metadata": {},
          "output_type": "execute_result"
        }
      ],
      "source": [
        "X.shape"
      ]
    },
    {
      "cell_type": "markdown",
      "metadata": {
        "id": "7fa7c3ca-6d0f-46d5-8516-c4d56e3254f2"
      },
      "source": [
        "# Split Data"
      ]
    },
    {
      "cell_type": "code",
      "execution_count": null,
      "metadata": {
        "id": "9e1f463f"
      },
      "outputs": [],
      "source": [
        "# Split the data into a training and test set\n",
        "X_train, X_test, y_train, y_test = train_test_split(X, y, test_size= 10000, random_state=42)\n",
        "# I will train with 30000 images instead of 6000.\n",
        "X_train1, y_train1 = X[:30000], y[:30000]"
      ]
    },
    {
      "cell_type": "markdown",
      "source": [
        "# Tuning SVM Classifier Hyperparameters using Grid Search with Cross-Validation:"
      ],
      "metadata": {
        "id": "xlpDfZK4RTYh"
      }
    },
    {
      "cell_type": "markdown",
      "metadata": {
        "id": "gOOw4X7Uf9rU"
      },
      "source": [
        "# Linear Kernel"
      ]
    },
    {
      "cell_type": "code",
      "execution_count": null,
      "metadata": {
        "id": "8afaec47",
        "outputId": "bda471d0-bfb4-4274-e04d-a0dc0ba568d4"
      },
      "outputs": [
        {
          "name": "stdout",
          "output_type": "stream",
          "text": [
            "Fitting 3 folds for each of 3 candidates, totalling 9 fits\n",
            "Best Parameters: {'C': 0.01, 'kernel': 'linear'}\n",
            "Best Cross-Validation Score: 0.9084\n"
          ]
        }
      ],
      "source": [
        "# Tuning SVM Classifier Hyperparameters using Grid Search with Cross-Validation\n",
        "param_grid = {\n",
        "\n",
        "    'kernel': ['linear'],\n",
        "    'C': [0.001, 0.01, 1]\n",
        "}\n",
        "\n",
        "# Initialize the SVM classifier\n",
        "svm_clf = SVC()\n",
        "\n",
        "# Set up Grid Search with Cross-Validation\n",
        "grid_search = GridSearchCV(estimator=svm_clf, param_grid=param_grid, cv=3, scoring='accuracy', n_jobs=-1, ve3rbose=3)\n",
        "\n",
        "grid_search.fit(X_train1, y_train1)\n",
        "\n",
        "# Print best parameters and best score\n",
        "print(\"Best Parameters:\", grid_search.best_params_)\n",
        "print(\"Best Cross-Validation Score:\", grid_search.best_score_)\n"
      ]
    },
    {
      "cell_type": "markdown",
      "source": [
        "##SVC_Linear on Test Set"
      ],
      "metadata": {
        "id": "yf2VboNlyi3Z"
      }
    },
    {
      "cell_type": "code",
      "execution_count": null,
      "metadata": {
        "id": "208c106a-2b7d-4031-8c71-578b6f5f0cf9",
        "outputId": "03360c67-a501-4f8b-8485-2576c06bd239"
      },
      "outputs": [
        {
          "name": "stdout",
          "output_type": "stream",
          "text": [
            "\n",
            "Test Accuracy: 0.9195\n",
            "Precision: 0.9200\n",
            "Recall: 0.9195\n",
            "F1-Score: 0.9194\n",
            "Training Time: 10614.18 seconds\n"
          ]
        }
      ],
      "source": [
        "best_svm_linear = SVC(C=0.01, kernel='linear')\n",
        "# Measure training time\n",
        "start_time = time.time()\n",
        "best_svm_linear.fit(X_train, y_train)\n",
        "training_time = time.time() - start_time\n",
        "\n",
        "# Now you can predict\n",
        "y_pred = best_svm_linear.predict(X_test)\n",
        "print(\"\\nTest Accuracy:\", accuracy_score(y_test, y_pred))\n",
        "\n",
        "# Get precision, recall, and F1 score for all classes combined (using macro, micro, or weighted)\n",
        "precision = precision_score(y_test, y_pred, average='weighted')\n",
        "recall = recall_score(y_test, y_pred, average='weighted')\n",
        "f1 = f1_score(y_test, y_pred, average='weighted')\n",
        "\n",
        "# Print the results\n",
        "print(f\"Precision: {precision:.4f}\")\n",
        "print(f\"Recall: {recall:.4f}\")\n",
        "print(f\"F1-Score: {f1:.4f}\")\n",
        "print(\"Training Time: {:.2f} seconds\".format(training_time))"
      ]
    },
    {
      "cell_type": "markdown",
      "metadata": {
        "id": "84dc8b14"
      },
      "source": [
        "## Polynomial Kernel"
      ]
    },
    {
      "cell_type": "code",
      "execution_count": null,
      "metadata": {
        "id": "73112e53",
        "outputId": "07cffab5-a9cb-4efc-f685-5878338721ad"
      },
      "outputs": [
        {
          "name": "stdout",
          "output_type": "stream",
          "text": [
            "Fitting 3 folds for each of 8 candidates, totalling 24 fits\n",
            "[CV 1/3] END C=10, coef0=0, degree=3, kernel=poly;, score=0.977 total time= 2.5min\n",
            "[CV 2/3] END C=10, coef0=0, degree=3, kernel=poly;, score=0.977 total time= 2.5min\n",
            "[CV 3/3] END C=10, coef0=0, degree=3, kernel=poly;, score=0.974 total time= 2.5min\n",
            "[CV 1/3] END C=10, coef0=0, degree=4, kernel=poly;, score=0.971 total time= 2.8min\n",
            "[CV 2/3] END C=10, coef0=0, degree=4, kernel=poly;, score=0.972 total time= 2.8min\n",
            "[CV 3/3] END C=10, coef0=0, degree=4, kernel=poly;, score=0.969 total time= 2.8min\n",
            "[CV 1/3] END C=10, coef0=1, degree=3, kernel=poly;, score=0.978 total time= 2.5min\n",
            "[CV 2/3] END C=10, coef0=1, degree=3, kernel=poly;, score=0.979 total time= 2.5min\n",
            "[CV 3/3] END C=10, coef0=1, degree=3, kernel=poly;, score=0.976 total time= 2.5min\n",
            "[CV 1/3] END C=10, coef0=1, degree=4, kernel=poly;, score=0.978 total time= 2.5min\n",
            "[CV 2/3] END C=10, coef0=1, degree=4, kernel=poly;, score=0.979 total time= 2.5min\n",
            "[CV 3/3] END C=10, coef0=1, degree=4, kernel=poly;, score=0.976 total time= 2.5min\n",
            "[CV 1/3] END C=100, coef0=0, degree=3, kernel=poly;, score=0.976 total time= 2.4min\n",
            "[CV 2/3] END C=100, coef0=0, degree=3, kernel=poly;, score=0.977 total time= 2.4min\n",
            "[CV 3/3] END C=100, coef0=0, degree=3, kernel=poly;, score=0.973 total time= 2.4min\n",
            "[CV 1/3] END C=100, coef0=0, degree=4, kernel=poly;, score=0.971 total time= 2.6min\n",
            "[CV 2/3] END C=100, coef0=0, degree=4, kernel=poly;, score=0.971 total time= 2.7min\n",
            "[CV 3/3] END C=100, coef0=0, degree=4, kernel=poly;, score=0.968 total time= 2.8min\n",
            "[CV 1/3] END C=100, coef0=1, degree=3, kernel=poly;, score=0.978 total time= 2.5min\n",
            "[CV 2/3] END C=100, coef0=1, degree=3, kernel=poly;, score=0.979 total time= 2.5min\n",
            "[CV 3/3] END C=100, coef0=1, degree=3, kernel=poly;, score=0.976 total time= 2.5min\n",
            "[CV 1/3] END C=100, coef0=1, degree=4, kernel=poly;, score=0.978 total time= 2.5min\n",
            "[CV 2/3] END C=100, coef0=1, degree=4, kernel=poly;, score=0.979 total time= 2.6min\n",
            "[CV 3/3] END C=100, coef0=1, degree=4, kernel=poly;, score=0.976 total time= 2.5min\n",
            "Best Parameters: {'C': 10, 'coef0': 1, 'degree': 4, 'kernel': 'poly'}\n",
            "Best Cross-Validation Score: 0.9779166666666667\n"
          ]
        }
      ],
      "source": [
        "# Define parameter grid for polynomial kernel SVC\n",
        "param_grid = {\n",
        "    'C': [10, 100],\n",
        "    'degree': [3, 4],\n",
        "    'coef0': [0, 1],\n",
        "    'kernel': ['poly']  # Specify poly kernel\n",
        "}\n",
        "\n",
        "# Initialize the SVC model\n",
        "svc_poly = SVC()\n",
        "\n",
        "# Perform Grid Search with Cross Validation\n",
        "grid_search = GridSearchCV(svc_poly, param_grid, cv=3, verbose=3)\n",
        "grid_search.fit(X_train, y_train)\n",
        "\n",
        "# Print best parameters and best score\n",
        "print(\"Best Parameters:\", grid_search.best_params_)\n",
        "print(\"Best Cross-Validation Score:\", grid_search.best_score_)"
      ]
    },
    {
      "cell_type": "markdown",
      "source": [
        "## SVC Polynomial on Test set"
      ],
      "metadata": {
        "id": "7AoQcqkAxcD5"
      }
    },
    {
      "cell_type": "code",
      "execution_count": null,
      "metadata": {
        "id": "96a84882-79c4-4bad-961c-1061f9f771a6",
        "outputId": "6272ff4c-d275-4c15-a55e-0284237f8c4b"
      },
      "outputs": [
        {
          "name": "stdout",
          "output_type": "stream",
          "text": [
            "\n",
            "Test Accuracy: 0.9783\n",
            "Precision: 0.9783\n",
            "Recall: 0.9783\n",
            "F1-Score: 0.9783\n",
            "Training Time: 163.48 seconds\n"
          ]
        }
      ],
      "source": [
        "# The best model\n",
        "best_svm_poly = SVC(C=10, coef0=1, degree=4, kernel='poly')\n",
        "\n",
        "# Measure training time\n",
        "start_time = time.time()\n",
        "best_svm_poly.fit(X_train, y_train)\n",
        "training_time = time.time() - start_time\n",
        "\n",
        "# Evaluate on test data\n",
        "y_pred = best_svm_poly.predict(X_test)\n",
        "print(\"\\nTest Accuracy:\", accuracy_score(y_test, y_pred))\n",
        "\n",
        "# Get precision, recall, and F1 score for all classes combined\n",
        "precision = precision_score(y_test, y_pred, average='weighted')\n",
        "recall = recall_score(y_test, y_pred, average='weighted')\n",
        "f1 = f1_score(y_test, y_pred, average='weighted')\n",
        "\n",
        "# Print the results\n",
        "print(f\"Precision: {precision:.4f}\")\n",
        "print(f\"Recall: {recall:.4f}\")\n",
        "print(f\"F1-Score: {f1:.4f}\")\n",
        "print(\"Training Time: {:.2f} seconds\".format(training_time))"
      ]
    },
    {
      "cell_type": "markdown",
      "metadata": {
        "id": "QPKqK2rLhJqv"
      },
      "source": [
        "# RBF Kernel (Best SVC)"
      ]
    },
    {
      "cell_type": "code",
      "execution_count": null,
      "metadata": {
        "id": "09d4e29a",
        "outputId": "2086e8de-9863-43c0-e6bb-0df39e84f266"
      },
      "outputs": [
        {
          "name": "stdout",
          "output_type": "stream",
          "text": [
            "Fitting 3 folds for each of 6 candidates, totalling 18 fits\n"
          ]
        },
        {
          "name": "stderr",
          "output_type": "stream",
          "text": [
            "c:\\Users\\USER\\AppData\\Local\\Programs\\Python\\Python313\\Lib\\site-packages\\numpy\\ma\\core.py:2881: RuntimeWarning: invalid value encountered in cast\n",
            "  _data = np.array(data, dtype=dtype, copy=copy,\n"
          ]
        },
        {
          "name": "stdout",
          "output_type": "stream",
          "text": [
            "Best Parameters: {'C': 10, 'gamma': 'scale', 'kernel': 'rbf'}\n",
            "Best Cross-Validation Score: 0.9754\n"
          ]
        }
      ],
      "source": [
        "# Define the parameter grid\n",
        "param_grid = {\n",
        "    'kernel': ['rbf'],\n",
        "    'C': [10, 100],\n",
        "    'gamma': ['scale', 'auto', 0.01]\n",
        "}\n",
        "\n",
        "# Initialize the SVM classifier\n",
        "svm_clf = SVC()\n",
        "\n",
        "# Set up Grid Search with Cross-Validation\n",
        "grid_search = GridSearchCV(estimator=svm_clf, param_grid=param_grid, cv=3, scoring='accuracy', n_jobs=-1, verbose=3)\n",
        "\n",
        "grid_search.fit(X_train1, y_train1)\n",
        "\n",
        "# Print best parameters and best score\n",
        "print(\"Best Parameters:\", grid_search.best_params_)\n",
        "print(\"Best Cross-Validation Score:\", grid_search.best_score_)"
      ]
    },
    {
      "cell_type": "markdown",
      "source": [
        "## SVC_ RBF Evaluation on test data (The Best SVM)"
      ],
      "metadata": {
        "id": "gtKJoFDxs3f9"
      }
    },
    {
      "cell_type": "code",
      "source": [
        "# The best model\n",
        "best_svm_rbf = SVC(C=10, gamma='scale', kernel='rbf')\n",
        "\n",
        "# Measure training time\n",
        "start_time = time.time()\n",
        "best_svm_rbf.fit(X_train, y_train)\n",
        "training_time_rbf = time.time() - start_time\n",
        "\n",
        "# Evaluate on test data\n",
        "y_pred = best_svm_rbf.predict(X_test)\n",
        "print(\"\\nTest Accuracy:\", accuracy_score(y_test, y_pred))\n",
        "\n",
        "# Get precision, recall, and F1 score for all classes combined (using macro, micro, or weighted)\n",
        "precision = precision_score(y_test, y_pred, average='weighted')\n",
        "recall = recall_score(y_test, y_pred, average='weighted')\n",
        "f1 = f1_score(y_test, y_pred, average='weighted')\n",
        "\n",
        "# Print the results\n",
        "print(f\"Precision: {precision:.4f}\")\n",
        "print(f\"Recall: {recall:.4f}\")\n",
        "print(f\"F1-Score: {f1:.4f}\")\n",
        "print(\"Training Time: {:.2f} seconds\".format(training_time_rbf))\n"
      ],
      "metadata": {
        "colab": {
          "base_uri": "https://localhost:8080/"
        },
        "id": "RHcQLqxuuK9-",
        "outputId": "fa95d133-cfa1-45a9-d9a5-cdbeb6fb5e3d"
      },
      "execution_count": null,
      "outputs": [
        {
          "output_type": "stream",
          "name": "stdout",
          "text": [
            "\n",
            "Test Accuracy: 0.9815\n",
            "Precision: 0.9815\n",
            "Precision: 0.9815\n",
            "Recall: 0.9815\n",
            "F1-Score: 0.9815\n",
            "Training Time: 320.93 seconds\n"
          ]
        }
      ]
    },
    {
      "cell_type": "markdown",
      "source": [
        "## SVM Classifiers Plots"
      ],
      "metadata": {
        "id": "QktoZP5kEcoV"
      }
    },
    {
      "cell_type": "code",
      "source": [
        "import matplotlib.pyplot as plt\n",
        "import numpy as np\n",
        "\n",
        "# Data for the three classifiers\n",
        "classifiers = ['Linear SVC', 'Polynomial SVC', 'RBF SVC']\n",
        "accuracy = [0.9195, 0.9783, 0.9815]  # Accuracy values\n",
        "recall = [0.9195, 0.9783, 0.9815]  # Recall values\n",
        "precision = [0.9200, 0.9783, 0.9815]  # Precision values\n",
        "f1_score = [0.9194, 0.9783, 0.9815]  # F1-Score values\n",
        "\n",
        "# Bar chart setup\n",
        "bar_width = 0.2\n",
        "index = np.arange(len(classifiers))\n",
        "\n",
        "# Create the figure and a single subplot\n",
        "plt.figure(figsize=(5, 5))\n",
        "\n",
        "# Plot Accuracy\n",
        "plt.bar(index, accuracy, bar_width, label='Accuracy', color='#1f77b4')\n",
        "\n",
        "# Plot Recall\n",
        "plt.bar(index + bar_width, recall, bar_width, label='Recall', color='#2ca02c')\n",
        "\n",
        "# Plot Precision\n",
        "plt.bar(index + 2 * bar_width, precision, bar_width, label='Precision', color='#ff7f0e')\n",
        "\n",
        "# Plot F1-Score\n",
        "plt.bar(index + 3 * bar_width, f1_score, bar_width, label='F1 Score', color='#d62728')\n",
        "\n",
        "# Set the y-axis limit to display only the range from 0.8 to 1.0\n",
        "plt.ylim(0.8, 1.0)\n",
        "\n",
        "# Adding labels and title\n",
        "plt.xlabel('Classifiers', fontsize=12, labelpad=10)\n",
        "plt.ylabel('Scores', fontsize=12, labelpad=10)\n",
        "plt.title('')\n",
        "# plt.title('Performance Metrics for SVC Classifiers', fontsize=16, pad=20)\n",
        "\n",
        "# Set x-ticks to classifiers\n",
        "plt.xticks(index + 1.5 * bar_width, classifiers)\n",
        "\n",
        "# Add a grid\n",
        "plt.grid(True, which='both', axis='y', linestyle='--', linewidth=0.7, alpha=0.7)\n",
        "\n",
        "# Add a legend above the Linear SVC bar\n",
        "plt.legend(loc='upper center', bbox_to_anchor=(0.2, 1.05), fontsize=10)\n",
        "\n",
        "# Customize tick parameters\n",
        "plt.tick_params(axis='both', which='major', labelsize=10)\n",
        "\n",
        "# Adjust layout to fit everything\n",
        "plt.tight_layout()\n",
        "\n",
        "# Show the chart\n",
        "plt.show()\n"
      ],
      "metadata": {
        "colab": {
          "base_uri": "https://localhost:8080/",
          "height": 507
        },
        "id": "qPI86Cvpg9VA",
        "outputId": "1f74d320-4996-4506-cbc1-acf4512925fe"
      },
      "execution_count": 40,
      "outputs": [
        {
          "output_type": "display_data",
          "data": {
            "text/plain": [
              "<Figure size 500x500 with 1 Axes>"
            ],
            "image/png": "[encoded data removed]"
          },
          "metadata": {}
        }
      ]
    },
    {
      "cell_type": "code",
      "source": [
        "import matplotlib.pyplot as plt\n",
        "import numpy as np\n",
        "\n",
        "# Data for the updated classifiers\n",
        "models = ['Linear SVC', 'Polynomial SVC', 'RBF SVC']\n",
        "Training_Time = [10614.18, 163.48, 320.93]  # Training times in seconds\n",
        "\n",
        "# Set up the figure and axis\n",
        "fig, ax = plt.subplots(figsize=(6, 6.5))\n",
        "\n",
        "# Plot Training Time on the primary y-axis\n",
        "x = np.arange(len(models))\n",
        "bar_width = 0.5  # Bar width\n",
        "bars = ax.bar(x, Training_Time, bar_width, color=['lightcoral', 'lightsalmon', 'lightgreen'], edgecolor='black')\n",
        "\n",
        "# Add labels and title\n",
        "ax.set_ylabel('Training Time (s)', fontsize=12)\n",
        "ax.set_xlabel('SVM Classifiers', fontsize=12)\n",
        "# ax.set_title('Training Time for SVM Classifiers', fontsize=14)\n",
        "\n",
        "# Add value labels for Training Time on top of the bars\n",
        "for bar in bars:\n",
        "    yval = bar.get_height()\n",
        "    ax.text(bar.get_x() + bar.get_width()/2, yval + 200, f'{yval:.2f}', ha='center', va='bottom', fontsize=10)\n",
        "\n",
        "# Set the ticks and labels for the x-axis\n",
        "ax.set_xticks(x)\n",
        "ax.set_xticklabels(models)\n",
        "\n",
        "# Add grid lines for better readability\n",
        "ax.grid(axis='y', linestyle='--', linewidth=0.7, alpha=0.7)\n",
        "\n",
        "# Beautify the chart with tight layout and consistent formatting\n",
        "plt.tight_layout()\n",
        "\n",
        "# Show the plot\n",
        "plt.show()\n"
      ],
      "metadata": {
        "colab": {
          "base_uri": "https://localhost:8080/",
          "height": 657
        },
        "id": "rTLps06ZexFC",
        "outputId": "fdffe2c9-3d42-475e-a296-8afa86404ff5"
      },
      "execution_count": 41,
      "outputs": [
        {
          "output_type": "display_data",
          "data": {
            "text/plain": [
              "<Figure size 600x650 with 1 Axes>"
            ],
            "image/png": "[encoded data removed]"
          },
          "metadata": {}
        }
      ]
    },
    {
      "cell_type": "markdown",
      "metadata": {
        "id": "fb4907d6-ac70-46ce-ac79-f03d11214072"
      },
      "source": [
        "# KNN Classifier Hyperparameters Fine-Tuning"
      ]
    },
    {
      "cell_type": "code",
      "execution_count": null,
      "metadata": {
        "colab": {
          "background_save": true,
          "base_uri": "https://localhost:8080/"
        },
        "id": "604a452d-3084-43a1-af28-d2680fb4188f",
        "outputId": "90fae8df-8765-4e4d-9b8a-6f668a52187b",
        "scrolled": true
      },
      "outputs": [
        {
          "name": "stdout",
          "output_type": "stream",
          "text": [
            "Fitting 5 folds for each of 6 candidates, totalling 30 fits\n",
            "[CV 1/5] END ....n_neighbors=3, weights=uniform;, score=0.971 total time=  39.1s\n",
            "[CV 2/5] END ....n_neighbors=3, weights=uniform;, score=0.971 total time=  38.0s\n",
            "[CV 3/5] END ....n_neighbors=3, weights=uniform;, score=0.972 total time=  39.2s\n",
            "[CV 4/5] END ....n_neighbors=3, weights=uniform;, score=0.971 total time=  39.3s\n",
            "[CV 5/5] END ....n_neighbors=3, weights=uniform;, score=0.970 total time=  39.8s\n",
            "[CV 1/5] END ...n_neighbors=3, weights=distance;, score=0.973 total time=  38.2s\n",
            "[CV 2/5] END ...n_neighbors=3, weights=distance;, score=0.972 total time=  38.8s\n",
            "[CV 3/5] END ...n_neighbors=3, weights=distance;, score=0.973 total time=  37.2s\n",
            "[CV 4/5] END ...n_neighbors=3, weights=distance;, score=0.971 total time=  38.9s\n",
            "[CV 5/5] END ...n_neighbors=3, weights=distance;, score=0.971 total time=  39.1s\n",
            "[CV 1/5] END ....n_neighbors=4, weights=uniform;, score=0.969 total time=  40.8s\n",
            "[CV 2/5] END ....n_neighbors=4, weights=uniform;, score=0.969 total time=  41.1s\n",
            "[CV 3/5] END ....n_neighbors=4, weights=uniform;, score=0.971 total time=  41.1s\n",
            "[CV 4/5] END ....n_neighbors=4, weights=uniform;, score=0.971 total time=  40.3s\n",
            "[CV 5/5] END ....n_neighbors=4, weights=uniform;, score=0.968 total time=  39.5s\n",
            "[CV 1/5] END ...n_neighbors=4, weights=distance;, score=0.972 total time=  39.6s\n",
            "[CV 2/5] END ...n_neighbors=4, weights=distance;, score=0.972 total time=  40.4s\n",
            "[CV 3/5] END ...n_neighbors=4, weights=distance;, score=0.974 total time=  39.8s\n",
            "[CV 4/5] END ...n_neighbors=4, weights=distance;, score=0.974 total time=  39.3s\n",
            "[CV 5/5] END ...n_neighbors=4, weights=distance;, score=0.972 total time=  39.9s\n",
            "[CV 1/5] END ....n_neighbors=5, weights=uniform;, score=0.969 total time=  40.5s\n",
            "[CV 2/5] END ....n_neighbors=5, weights=uniform;, score=0.970 total time=  41.3s\n",
            "[CV 3/5] END ....n_neighbors=5, weights=uniform;, score=0.972 total time=  42.0s\n",
            "[CV 4/5] END ....n_neighbors=5, weights=uniform;, score=0.971 total time=  41.1s\n",
            "[CV 5/5] END ....n_neighbors=5, weights=uniform;, score=0.968 total time=  40.4s\n",
            "[CV 1/5] END ...n_neighbors=5, weights=distance;, score=0.971 total time=  40.4s\n",
            "[CV 2/5] END ...n_neighbors=5, weights=distance;, score=0.971 total time=  39.6s\n",
            "[CV 3/5] END ...n_neighbors=5, weights=distance;, score=0.973 total time=  40.3s\n",
            "[CV 4/5] END ...n_neighbors=5, weights=distance;, score=0.973 total time=  40.9s\n",
            "[CV 5/5] END ...n_neighbors=5, weights=distance;, score=0.969 total time=  38.7s\n",
            "\n",
            " Best parameters found by grid search: {'n_neighbors': 4, 'weights': 'distance'}\n",
            "\n",
            " Best cross-validation accuracy: 0.9727237847427753\n",
            "\n",
            " Best knn_clf = KNeighborsClassifier(n_neighbors=4, weights='distance')\n"
          ]
        }
      ],
      "source": [
        "# Perform a grid search to find the best hyperparameters\n",
        "param_grid = {\n",
        "    'n_neighbors': [3, 4, 5],\n",
        "    'weights': ['uniform', 'distance']\n",
        "}\n",
        "\n",
        "knn_clf = KNeighborsClassifier()\n",
        "grid_search = GridSearchCV(knn_clf, param_grid, cv=5,n_jobs=-1, verbose=3)\n",
        "grid_search.fit(X_train, y_train)\n",
        "\n",
        "print(\"\\n Best parameters found by grid search:\", grid_search.best_params_)\n",
        "print(\"\\n Best cross-validation accuracy:\", grid_search.best_score_)\n",
        "\n",
        "print('\\n Best knn_clf =', grid_search.best_estimator_)"
      ]
    },
    {
      "cell_type": "code",
      "source": [
        "# The best model\n",
        "Best_knn_clf = KNeighborsClassifier(n_neighbors=4, weights='distance')\n",
        "# Measure training time\n",
        "start_time = time.time()\n",
        "Best_knn_clf.fit(X_train, y_train)\n",
        "training_time = time.time() - start_time\n",
        "print(\"Training Time: {:.2f} seconds\".format(training_time))"
      ],
      "metadata": {
        "colab": {
          "base_uri": "https://localhost:8080/"
        },
        "id": "JTi54aGVA5zA",
        "outputId": "5627d7e0-255a-4dd6-ac20-06ea55415be3"
      },
      "execution_count": null,
      "outputs": [
        {
          "output_type": "stream",
          "name": "stdout",
          "text": [
            "Training Time: 0.01 seconds\n"
          ]
        }
      ]
    },
    {
      "cell_type": "markdown",
      "metadata": {
        "id": "3b601e3f-e4a9-48d7-9eec-b99eba5d32fd"
      },
      "source": [
        " # KNN Performance on the Test Set"
      ]
    },
    {
      "cell_type": "code",
      "execution_count": null,
      "metadata": {
        "colab": {
          "base_uri": "https://localhost:8080/"
        },
        "id": "6d19ffb8-edcc-44dc-b945-ec4a1df9a0fc",
        "outputId": "7ae0f5f4-aca7-4dd2-ef0d-db5cd3575b13"
      },
      "outputs": [
        {
          "output_type": "stream",
          "name": "stdout",
          "text": [
            "\n",
            "Test Accuracy: 0.9729\n",
            "Precision: 0.9730\n",
            "Precision: 0.9730\n",
            "Recall: 0.9729\n",
            "F1-Score: 0.9729\n",
            "Training Time: 0.01 seconds\n"
          ]
        }
      ],
      "source": [
        "# The classifier with the best parameters\n",
        "Best_knn_clf = KNeighborsClassifier(n_neighbors=4, weights='distance')\n",
        "\n",
        "# Measure training time\n",
        "start_time = time.time()\n",
        "Best_knn_clf.fit(X_train, y_train)\n",
        "training_time = time.time() - start_time\n",
        "\n",
        "# Evaluate on test data\n",
        "y_pred = Best_knn_clf.predict(X_test)\n",
        "print(\"\\nTest Accuracy:\", accuracy_score(y_test, y_pred))\n",
        "\n",
        "# Get precision, recall, and F1 score for all classes combined (using macro, micro, or weighted)\n",
        "precision = precision_score(y_test, y_pred, average='weighted')\n",
        "recall = recall_score(y_test, y_pred, average='weighted')\n",
        "f1 = f1_score(y_test, y_pred, average='weighted')\n",
        "\n",
        "# Print the results\n",
        "print(f\"Precision: {precision:.4f}\")\n",
        "print(f\"Recall: {recall:.4f}\")\n",
        "print(f\"F1-Score: {f1:.4f}\")\n",
        "print(\"Training Time: {:.2f} seconds\".format(training_time))\n"
      ]
    },
    {
      "cell_type": "markdown",
      "metadata": {
        "id": "bcbdeb54-ae85-476e-90bd-c6e181ec3abc"
      },
      "source": [
        "# Random Forest Classifier\n",
        "\n"
      ]
    },
    {
      "cell_type": "code",
      "execution_count": null,
      "metadata": {
        "colab": {
          "base_uri": "https://localhost:8080/"
        },
        "id": "O92ZP02n5HPs",
        "outputId": "fba9d592-4deb-4955-d66c-f46159bf6742"
      },
      "outputs": [
        {
          "name": "stdout",
          "output_type": "stream",
          "text": [
            "Fitting 5 folds for each of 4 candidates, totalling 20 fits\n",
            "\n",
            " Best parameters found by grid search: {'max_depth': None, 'n_estimators': 500}\n",
            "\n",
            " Best cross-validation accuracy: 0.9695343635399791\n"
          ]
        }
      ],
      "source": [
        "# Define the parameter grid for fine-tuning Random Forest hyperparameters\n",
        "param_grid = {\n",
        "    # Number of trees in the forest\n",
        "    'n_estimators': [400, 500],\n",
        "    # The number of features to consider when looking for the best split\n",
        "    'max_depth': [30, None],  # Maximum depth of the trees\n",
        "}\n",
        "\n",
        "rf_clf = RandomForestClassifier(random_state=42)\n",
        "grid_search = GridSearchCV(rf_clf, param_grid, cv=5, n_jobs=-1, verbose=2)\n",
        "grid_search.fit(X_train, y_train)\n",
        "\n",
        "print(\"\\n Best parameters found by grid search:\", grid_search.best_params_)\n",
        "print(\"\\n Best cross-validation accuracy:\", grid_search.best_score_)"
      ]
    },
    {
      "cell_type": "markdown",
      "source": [
        "## Random Forest Classifier on the Test Set"
      ],
      "metadata": {
        "id": "11VDuaKRz_zr"
      }
    },
    {
      "cell_type": "code",
      "execution_count": null,
      "metadata": {
        "colab": {
          "base_uri": "https://localhost:8080/"
        },
        "id": "cXoSH__dHgIT",
        "outputId": "43b977bc-9a53-4988-f729-8c0d8d1e04de"
      },
      "outputs": [
        {
          "output_type": "stream",
          "name": "stdout",
          "text": [
            "\n",
            "Test Accuracy: 0.9689\n",
            "Precision: 0.9690\n",
            "Recall: 0.9689\n",
            "F1-Score: 0.9689\n",
            "Training Time: 352.47 seconds\n"
          ]
        }
      ],
      "source": [
        "# The classifier with the best parameters\n",
        "best_RFC = RandomForestClassifier(max_depth=None, n_estimators= 500)\n",
        "\n",
        "# Measure training time\n",
        "start_time = time.time()\n",
        "best_RFC.fit(X_train, y_train)\n",
        "training_time = time.time() - start_time\n",
        "\n",
        "# Evaluate on test data\n",
        "y_pred = best_RFC.predict(X_test)\n",
        "print(\"\\nTest Accuracy:\", accuracy_score(y_test, y_pred))\n",
        "\n",
        "# Get precision, recall, and F1 score for all classes combined (using macro, micro, or weighted)\n",
        "precision = precision_score(y_test, y_pred, average='weighted')\n",
        "recall = recall_score(y_test, y_pred, average='weighted')\n",
        "f1 = f1_score(y_test, y_pred, average='weighted')\n",
        "\n",
        "# Print the results\n",
        "print(f\"Precision: {precision:.4f}\")\n",
        "print(f\"Recall: {recall:.4f}\")\n",
        "print(f\"F1-Score: {f1:.4f}\")\n",
        "print(\"Training Time: {:.2f} seconds\".format(training_time))\n"
      ]
    },
    {
      "cell_type": "markdown",
      "metadata": {
        "id": "pRy2EyOtQFqy"
      },
      "source": [
        "Error Analysis\n"
      ]
    },
    {
      "cell_type": "code",
      "execution_count": null,
      "metadata": {
        "colab": {
          "base_uri": "https://localhost:8080/",
          "height": 363
        },
        "id": "3HLL1A5sKlwT",
        "outputId": "a768762f-585b-40f1-f407-06e6acaed83d"
      },
      "outputs": [
        {
          "data": {
            "application/vnd.google.colaboratory.intrinsic+json": {
              "summary": "{\n  \"name\": \"pd\",\n  \"rows\": 10,\n  \"fields\": [\n    {\n      \"column\": 0,\n      \"properties\": {\n        \"dtype\": \"number\",\n        \"std\": 301,\n        \"min\": 0,\n        \"max\": 954,\n        \"num_unique_values\": 5,\n        \"samples\": [\n          0,\n          4,\n          1\n        ],\n        \"semantic_type\": \"\",\n        \"description\": \"\"\n      }\n    },\n    {\n      \"column\": 1,\n      \"properties\": {\n        \"dtype\": \"number\",\n        \"std\": 351,\n        \"min\": 0,\n        \"max\": 1114,\n        \"num_unique_values\": 7,\n        \"samples\": [\n          0,\n          1114,\n          4\n        ],\n        \"semantic_type\": \"\",\n        \"description\": \"\"\n      }\n    },\n    {\n      \"column\": 2,\n      \"properties\": {\n        \"dtype\": \"number\",\n        \"std\": 290,\n        \"min\": 0,\n        \"max\": 925,\n        \"num_unique_values\": 8,\n        \"samples\": [\n          925,\n          13,\n          4\n        ],\n        \"semantic_type\": \"\",\n        \"description\": \"\"\n      }\n    },\n    {\n      \"column\": 3,\n      \"properties\": {\n        \"dtype\": \"number\",\n        \"std\": 304,\n        \"min\": 0,\n        \"max\": 968,\n        \"num_unique_values\": 7,\n        \"samples\": [\n          0,\n          5,\n          11\n        ],\n        \"semantic_type\": \"\",\n        \"description\": \"\"\n      }\n    },\n    {\n      \"column\": 4,\n      \"properties\": {\n        \"dtype\": \"number\",\n        \"std\": 269,\n        \"min\": 0,\n        \"max\": 857,\n        \"num_unique_values\": 7,\n        \"samples\": [\n          1,\n          4,\n          5\n        ],\n        \"semantic_type\": \"\",\n        \"description\": \"\"\n      }\n    },\n    {\n      \"column\": 5,\n      \"properties\": {\n        \"dtype\": \"number\",\n        \"std\": 276,\n        \"min\": 0,\n        \"max\": 878,\n        \"num_unique_values\": 6,\n        \"samples\": [\n          0,\n          6,\n          2\n        ],\n        \"semantic_type\": \"\",\n        \"description\": \"\"\n      }\n    },\n    {\n      \"column\": 6,\n      \"properties\": {\n        \"dtype\": \"number\",\n        \"std\": 292,\n        \"min\": 0,\n        \"max\": 929,\n        \"num_unique_values\": 8,\n        \"samples\": [\n          0,\n          929,\n          2\n        ],\n        \"semantic_type\": \"\",\n        \"description\": \"\"\n      }\n    },\n    {\n      \"column\": 7,\n      \"properties\": {\n        \"dtype\": \"number\",\n        \"std\": 315,\n        \"min\": 0,\n        \"max\": 1000,\n        \"num_unique_values\": 8,\n        \"samples\": [\n          3,\n          0,\n          1\n        ],\n        \"semantic_type\": \"\",\n        \"description\": \"\"\n      }\n    },\n    {\n      \"column\": 8,\n      \"properties\": {\n        \"dtype\": \"number\",\n        \"std\": 285,\n        \"min\": 1,\n        \"max\": 909,\n        \"num_unique_values\": 6,\n        \"samples\": [\n          5,\n          2,\n          909\n        ],\n        \"semantic_type\": \"\",\n        \"description\": \"\"\n      }\n    },\n    {\n      \"column\": 9,\n      \"properties\": {\n        \"dtype\": \"number\",\n        \"std\": 301,\n        \"min\": 0,\n        \"max\": 957,\n        \"num_unique_values\": 8,\n        \"samples\": [\n          1,\n          7,\n          0\n        ],\n        \"semantic_type\": \"\",\n        \"description\": \"\"\n      }\n    }\n  ]\n}",
              "type": "dataframe"
            },
            "text/html": [
              "\n",
              "  <div id=\"df-275e9e1f-709b-48c3-9ea4-62f051c6380f\" class=\"colab-df-container\">\n",
              "    <div>\n",
              "<style scoped>\n",
              "    .dataframe tbody tr th:only-of-type {\n",
              "        vertical-align: middle;\n",
              "    }\n",
              "\n",
              "    .dataframe tbody tr th {\n",
              "        vertical-align: top;\n",
              "    }\n",
              "\n",
              "    .dataframe thead th {\n",
              "        text-align: right;\n",
              "    }\n",
              "</style>\n",
              "<table border=\"1\" class=\"dataframe\">\n",
              "  <thead>\n",
              "    <tr style=\"text-align: right;\">\n",
              "      <th></th>\n",
              "      <th>0</th>\n",
              "      <th>1</th>\n",
              "      <th>2</th>\n",
              "      <th>3</th>\n",
              "      <th>4</th>\n",
              "      <th>5</th>\n",
              "      <th>6</th>\n",
              "      <th>7</th>\n",
              "      <th>8</th>\n",
              "      <th>9</th>\n",
              "    </tr>\n",
              "  </thead>\n",
              "  <tbody>\n",
              "    <tr>\n",
              "      <th>0</th>\n",
              "      <td>954</td>\n",
              "      <td>0</td>\n",
              "      <td>4</td>\n",
              "      <td>0</td>\n",
              "      <td>1</td>\n",
              "      <td>0</td>\n",
              "      <td>2</td>\n",
              "      <td>1</td>\n",
              "      <td>5</td>\n",
              "      <td>0</td>\n",
              "    </tr>\n",
              "    <tr>\n",
              "      <th>1</th>\n",
              "      <td>0</td>\n",
              "      <td>1114</td>\n",
              "      <td>4</td>\n",
              "      <td>5</td>\n",
              "      <td>1</td>\n",
              "      <td>0</td>\n",
              "      <td>0</td>\n",
              "      <td>3</td>\n",
              "      <td>2</td>\n",
              "      <td>0</td>\n",
              "    </tr>\n",
              "    <tr>\n",
              "      <th>2</th>\n",
              "      <td>1</td>\n",
              "      <td>2</td>\n",
              "      <td>925</td>\n",
              "      <td>2</td>\n",
              "      <td>4</td>\n",
              "      <td>0</td>\n",
              "      <td>4</td>\n",
              "      <td>4</td>\n",
              "      <td>7</td>\n",
              "      <td>1</td>\n",
              "    </tr>\n",
              "    <tr>\n",
              "      <th>3</th>\n",
              "      <td>1</td>\n",
              "      <td>0</td>\n",
              "      <td>17</td>\n",
              "      <td>968</td>\n",
              "      <td>0</td>\n",
              "      <td>6</td>\n",
              "      <td>2</td>\n",
              "      <td>8</td>\n",
              "      <td>8</td>\n",
              "      <td>8</td>\n",
              "    </tr>\n",
              "    <tr>\n",
              "      <th>4</th>\n",
              "      <td>1</td>\n",
              "      <td>0</td>\n",
              "      <td>2</td>\n",
              "      <td>0</td>\n",
              "      <td>857</td>\n",
              "      <td>0</td>\n",
              "      <td>5</td>\n",
              "      <td>2</td>\n",
              "      <td>2</td>\n",
              "      <td>16</td>\n",
              "    </tr>\n",
              "    <tr>\n",
              "      <th>5</th>\n",
              "      <td>1</td>\n",
              "      <td>1</td>\n",
              "      <td>0</td>\n",
              "      <td>15</td>\n",
              "      <td>3</td>\n",
              "      <td>878</td>\n",
              "      <td>6</td>\n",
              "      <td>0</td>\n",
              "      <td>8</td>\n",
              "      <td>2</td>\n",
              "    </tr>\n",
              "    <tr>\n",
              "      <th>6</th>\n",
              "      <td>5</td>\n",
              "      <td>1</td>\n",
              "      <td>0</td>\n",
              "      <td>0</td>\n",
              "      <td>3</td>\n",
              "      <td>7</td>\n",
              "      <td>929</td>\n",
              "      <td>0</td>\n",
              "      <td>1</td>\n",
              "      <td>0</td>\n",
              "    </tr>\n",
              "    <tr>\n",
              "      <th>7</th>\n",
              "      <td>1</td>\n",
              "      <td>3</td>\n",
              "      <td>13</td>\n",
              "      <td>0</td>\n",
              "      <td>5</td>\n",
              "      <td>0</td>\n",
              "      <td>0</td>\n",
              "      <td>1000</td>\n",
              "      <td>2</td>\n",
              "      <td>7</td>\n",
              "    </tr>\n",
              "    <tr>\n",
              "      <th>8</th>\n",
              "      <td>0</td>\n",
              "      <td>4</td>\n",
              "      <td>5</td>\n",
              "      <td>11</td>\n",
              "      <td>4</td>\n",
              "      <td>4</td>\n",
              "      <td>3</td>\n",
              "      <td>4</td>\n",
              "      <td>909</td>\n",
              "      <td>6</td>\n",
              "    </tr>\n",
              "    <tr>\n",
              "      <th>9</th>\n",
              "      <td>4</td>\n",
              "      <td>5</td>\n",
              "      <td>1</td>\n",
              "      <td>13</td>\n",
              "      <td>14</td>\n",
              "      <td>2</td>\n",
              "      <td>1</td>\n",
              "      <td>7</td>\n",
              "      <td>7</td>\n",
              "      <td>957</td>\n",
              "    </tr>\n",
              "  </tbody>\n",
              "</table>\n",
              "</div>\n",
              "    <div class=\"colab-df-buttons\">\n",
              "\n",
              "  <div class=\"colab-df-container\">\n",
              "    <button class=\"colab-df-convert\" onclick=\"convertToInteractive('df-275e9e1f-709b-48c3-9ea4-62f051c6380f')\"\n",
              "            title=\"Convert this dataframe to an interactive table.\"\n",
              "            style=\"display:none;\">\n",
              "\n",
              "  <svg xmlns=\"http://www.w3.org/2000/svg\" height=\"24px\" viewBox=\"0 -960 960 960\">\n",
              "    <path d=\"M120-120v-720h720v720H120Zm60-500h600v-160H180v160Zm220 220h160v-160H400v160Zm0 220h160v-160H400v160ZM180-400h160v-160H180v160Zm440 0h160v-160H620v160ZM180-180h160v-160H180v160Zm440 0h160v-160H620v160Z\"/>\n",
              "  </svg>\n",
              "    </button>\n",
              "\n",
              "  <style>\n",
              "    .colab-df-container {\n",
              "      display:flex;\n",
              "      gap: 12px;\n",
              "    }\n",
              "\n",
              "    .colab-df-convert {\n",
              "      background-color: #E8F0FE;\n",
              "      border: none;\n",
              "      border-radius: 50%;\n",
              "      cursor: pointer;\n",
              "      display: none;\n",
              "      fill: #1967D2;\n",
              "      height: 32px;\n",
              "      padding: 0 0 0 0;\n",
              "      width: 32px;\n",
              "    }\n",
              "\n",
              "    .colab-df-convert:hover {\n",
              "      background-color: #E2EBFA;\n",
              "      box-shadow: 0px 1px 2px rgba(60, 64, 67, 0.3), 0px 1px 3px 1px rgba(60, 64, 67, 0.15);\n",
              "      fill: #174EA6;\n",
              "    }\n",
              "\n",
              "    .colab-df-buttons div {\n",
              "      margin-bottom: 4px;\n",
              "    }\n",
              "\n",
              "    [theme=dark] .colab-df-convert {\n",
              "      background-color: #3B4455;\n",
              "      fill: #D2E3FC;\n",
              "    }\n",
              "\n",
              "    [theme=dark] .colab-df-convert:hover {\n",
              "      background-color: #434B5C;\n",
              "      box-shadow: 0px 1px 3px 1px rgba(0, 0, 0, 0.15);\n",
              "      filter: drop-shadow(0px 1px 2px rgba(0, 0, 0, 0.3));\n",
              "      fill: #FFFFFF;\n",
              "    }\n",
              "  </style>\n",
              "\n",
              "    <script>\n",
              "      const buttonEl =\n",
              "        document.querySelector('#df-275e9e1f-709b-48c3-9ea4-62f051c6380f button.colab-df-convert');\n",
              "      buttonEl.style.display =\n",
              "        google.colab.kernel.accessAllowed ? 'block' : 'none';\n",
              "\n",
              "      async function convertToInteractive(key) {\n",
              "        const element = document.querySelector('#df-275e9e1f-709b-48c3-9ea4-62f051c6380f');\n",
              "        const dataTable =\n",
              "          await google.colab.kernel.invokeFunction('convertToInteractive',\n",
              "                                                    [key], {});\n",
              "        if (!dataTable) return;\n",
              "\n",
              "        const docLinkHtml = 'Like what you see? Visit the ' +\n",
              "          '<a target=\"_blank\" href=https://colab.research.google.com/notebooks/data_table.ipynb>data table notebook</a>'\n",
              "          + ' to learn more about interactive tables.';\n",
              "        element.innerHTML = '';\n",
              "        dataTable['output_type'] = 'display_data';\n",
              "        await google.colab.output.renderOutput(dataTable, element);\n",
              "        const docLink = document.createElement('div');\n",
              "        docLink.innerHTML = docLinkHtml;\n",
              "        element.appendChild(docLink);\n",
              "      }\n",
              "    </script>\n",
              "  </div>\n",
              "\n",
              "\n",
              "<div id=\"df-62e9dfbd-01b8-4bee-b26f-dafabb2d061f\">\n",
              "  <button class=\"colab-df-quickchart\" onclick=\"quickchart('df-62e9dfbd-01b8-4bee-b26f-dafabb2d061f')\"\n",
              "            title=\"Suggest charts\"\n",
              "            style=\"display:none;\">\n",
              "\n",
              "<svg xmlns=\"http://www.w3.org/2000/svg\" height=\"24px\"viewBox=\"0 0 24 24\"\n",
              "     width=\"24px\">\n",
              "    <g>\n",
              "        <path d=\"M19 3H5c-1.1 0-2 .9-2 2v14c0 1.1.9 2 2 2h14c1.1 0 2-.9 2-2V5c0-1.1-.9-2-2-2zM9 17H7v-7h2v7zm4 0h-2V7h2v10zm4 0h-2v-4h2v4z\"/>\n",
              "    </g>\n",
              "</svg>\n",
              "  </button>\n",
              "\n",
              "<style>\n",
              "  .colab-df-quickchart {\n",
              "      --bg-color: #E8F0FE;\n",
              "      --fill-color: #1967D2;\n",
              "      --hover-bg-color: #E2EBFA;\n",
              "      --hover-fill-color: #174EA6;\n",
              "      --disabled-fill-color: #AAA;\n",
              "      --disabled-bg-color: #DDD;\n",
              "  }\n",
              "\n",
              "  [theme=dark] .colab-df-quickchart {\n",
              "      --bg-color: #3B4455;\n",
              "      --fill-color: #D2E3FC;\n",
              "      --hover-bg-color: #434B5C;\n",
              "      --hover-fill-color: #FFFFFF;\n",
              "      --disabled-bg-color: #3B4455;\n",
              "      --disabled-fill-color: #666;\n",
              "  }\n",
              "\n",
              "  .colab-df-quickchart {\n",
              "    background-color: var(--bg-color);\n",
              "    border: none;\n",
              "    border-radius: 50%;\n",
              "    cursor: pointer;\n",
              "    display: none;\n",
              "    fill: var(--fill-color);\n",
              "    height: 32px;\n",
              "    padding: 0;\n",
              "    width: 32px;\n",
              "  }\n",
              "\n",
              "  .colab-df-quickchart:hover {\n",
              "    background-color: var(--hover-bg-color);\n",
              "    box-shadow: 0 1px 2px rgba(60, 64, 67, 0.3), 0 1px 3px 1px rgba(60, 64, 67, 0.15);\n",
              "    fill: var(--button-hover-fill-color);\n",
              "  }\n",
              "\n",
              "  .colab-df-quickchart-complete:disabled,\n",
              "  .colab-df-quickchart-complete:disabled:hover {\n",
              "    background-color: var(--disabled-bg-color);\n",
              "    fill: var(--disabled-fill-color);\n",
              "    box-shadow: none;\n",
              "  }\n",
              "\n",
              "  .colab-df-spinner {\n",
              "    border: 2px solid var(--fill-color);\n",
              "    border-color: transparent;\n",
              "    border-bottom-color: var(--fill-color);\n",
              "    animation:\n",
              "      spin 1s steps(1) infinite;\n",
              "  }\n",
              "\n",
              "  @keyframes spin {\n",
              "    0% {\n",
              "      border-color: transparent;\n",
              "      border-bottom-color: var(--fill-color);\n",
              "      border-left-color: var(--fill-color);\n",
              "    }\n",
              "    20% {\n",
              "      border-color: transparent;\n",
              "      border-left-color: var(--fill-color);\n",
              "      border-top-color: var(--fill-color);\n",
              "    }\n",
              "    30% {\n",
              "      border-color: transparent;\n",
              "      border-left-color: var(--fill-color);\n",
              "      border-top-color: var(--fill-color);\n",
              "      border-right-color: var(--fill-color);\n",
              "    }\n",
              "    40% {\n",
              "      border-color: transparent;\n",
              "      border-right-color: var(--fill-color);\n",
              "      border-top-color: var(--fill-color);\n",
              "    }\n",
              "    60% {\n",
              "      border-color: transparent;\n",
              "      border-right-color: var(--fill-color);\n",
              "    }\n",
              "    80% {\n",
              "      border-color: transparent;\n",
              "      border-right-color: var(--fill-color);\n",
              "      border-bottom-color: var(--fill-color);\n",
              "    }\n",
              "    90% {\n",
              "      border-color: transparent;\n",
              "      border-bottom-color: var(--fill-color);\n",
              "    }\n",
              "  }\n",
              "</style>\n",
              "\n",
              "  <script>\n",
              "    async function quickchart(key) {\n",
              "      const quickchartButtonEl =\n",
              "        document.querySelector('#' + key + ' button');\n",
              "      quickchartButtonEl.disabled = true;  // To prevent multiple clicks.\n",
              "      quickchartButtonEl.classList.add('colab-df-spinner');\n",
              "      try {\n",
              "        const charts = await google.colab.kernel.invokeFunction(\n",
              "            'suggestCharts', [key], {});\n",
              "      } catch (error) {\n",
              "        console.error('Error during call to suggestCharts:', error);\n",
              "      }\n",
              "      quickchartButtonEl.classList.remove('colab-df-spinner');\n",
              "      quickchartButtonEl.classList.add('colab-df-quickchart-complete');\n",
              "    }\n",
              "    (() => {\n",
              "      let quickchartButtonEl =\n",
              "        document.querySelector('#df-62e9dfbd-01b8-4bee-b26f-dafabb2d061f button');\n",
              "      quickchartButtonEl.style.display =\n",
              "        google.colab.kernel.accessAllowed ? 'block' : 'none';\n",
              "    })();\n",
              "  </script>\n",
              "</div>\n",
              "\n",
              "    </div>\n",
              "  </div>\n"
            ],
            "text/plain": [
              "     0     1    2    3    4    5    6     7    8    9\n",
              "0  954     0    4    0    1    0    2     1    5    0\n",
              "1    0  1114    4    5    1    0    0     3    2    0\n",
              "2    1     2  925    2    4    0    4     4    7    1\n",
              "3    1     0   17  968    0    6    2     8    8    8\n",
              "4    1     0    2    0  857    0    5     2    2   16\n",
              "5    1     1    0   15    3  878    6     0    8    2\n",
              "6    5     1    0    0    3    7  929     0    1    0\n",
              "7    1     3   13    0    5    0    0  1000    2    7\n",
              "8    0     4    5   11    4    4    3     4  909    6\n",
              "9    4     5    1   13   14    2    1     7    7  957"
            ]
          },
          "execution_count": 8,
          "metadata": {},
          "output_type": "execute_result"
        }
      ],
      "source": [
        "pd.DataFrame(confusion_matrix(y_test, y_test_pred))"
      ]
    },
    {
      "cell_type": "markdown",
      "metadata": {
        "id": "839ca4a1-f847-4439-9447-667e15a5e590"
      },
      "source": [
        "# SGD Classifier"
      ]
    },
    {
      "cell_type": "code",
      "execution_count": null,
      "metadata": {
        "colab": {
          "base_uri": "https://localhost:8080/"
        },
        "id": "e129e083-1b3d-4d8c-83a8-a9c900024d30",
        "outputId": "deb240ab-478c-4c13-eff9-c99bfa96970f"
      },
      "outputs": [
        {
          "name": "stdout",
          "output_type": "stream",
          "text": [
            "Fitting 5 folds for each of 4 candidates, totalling 20 fits\n",
            "Best hyperparameters:  {'alpha': 0.01, 'eta0': 0.1, 'learning_rate': 'optimal'}\n",
            "\n",
            " Best cross-validation accuracy: 0.8783698163692252\n"
          ]
        }
      ],
      "source": [
        "# Define the parameter grid for fine-tuning alpha and learning rate\n",
        "param_grid = {\n",
        "\n",
        "    'alpha': [1e-3, 1e-2], # Regularization strength\n",
        "    'learning_rate': ['optimal', 'adaptive'], # Different learning rate strategies\n",
        "    'eta0': [0.1]\n",
        "\n",
        "  }\n",
        "\n",
        "sgd_clf = SGDClassifier(random_state=42)\n",
        "grid_search = GridSearchCV(sgd_clf, param_grid, cv=5, n_jobs=-1, verbose=2)\n",
        "grid_search.fit(X_train, y_train)\n",
        "\n",
        "# Best parameters from grid search\n",
        "print(\"Best hyperparameters: \", grid_search.best_params_)\n",
        "print(\"\\n Best cross-validation accuracy:\", grid_search.best_score_)"
      ]
    },
    {
      "cell_type": "markdown",
      "source": [
        "## SGD Classifier on the Test Set"
      ],
      "metadata": {
        "id": "1yNUKwAc1Ejx"
      }
    },
    {
      "cell_type": "code",
      "execution_count": null,
      "metadata": {
        "colab": {
          "base_uri": "https://localhost:8080/"
        },
        "id": "tBkD2KNKJU0K",
        "outputId": "cfd4b43b-30a6-439c-92c6-3c73d01bd060"
      },
      "outputs": [
        {
          "output_type": "stream",
          "name": "stdout",
          "text": [
            "\n",
            "Test Accuracy: 0.8783\n",
            "Precision: 0.8876\n",
            "Recall: 0.8783\n",
            "F1-Score: 0.8788\n",
            "Training Time: 177.71 seconds\n"
          ]
        }
      ],
      "source": [
        "# The classifier with the best parameters\n",
        "best_sgd_clf = SGDClassifier(alpha=0.01, learning_rate= 'optimal')\n",
        "\n",
        "# Measure training time\n",
        "start_time = time.time()\n",
        "best_sgd_clf.fit(X_train, y_train)\n",
        "training_time = time.time() - start_time\n",
        "\n",
        "# Evaluate on test data\n",
        "y_pred = best_sgd_clf.predict(X_test)\n",
        "print(\"\\nTest Accuracy:\", accuracy_score(y_test, y_pred))\n",
        "\n",
        "# Get precision, recall, and F1 score for all classes combined (using macro, micro, or weighted)\n",
        "precision = precision_score(y_test, y_pred, average='weighted')\n",
        "recall = recall_score(y_test, y_pred, average='weighted')\n",
        "f1 = f1_score(y_test, y_pred, average='weighted')\n",
        "\n",
        "# Print the results\n",
        "print(f\"Precision: {precision:.4f}\")\n",
        "print(f\"Recall: {recall:.4f}\")\n",
        "print(f\"F1-Score: {f1:.4f}\")\n",
        "print(\"Training Time: {:.2f} seconds\".format(training_time))\n"
      ]
    },
    {
      "cell_type": "markdown",
      "metadata": {
        "id": "h0V72C34P_KT"
      },
      "source": [
        "Error Analysis\n"
      ]
    },
    {
      "cell_type": "code",
      "execution_count": null,
      "metadata": {
        "colab": {
          "base_uri": "https://localhost:8080/",
          "height": 363
        },
        "id": "qOIbLUfNK3dq",
        "outputId": "6c2a811e-d6c8-429a-979b-da464e4c4fbb"
      },
      "outputs": [
        {
          "data": {
            "application/vnd.google.colaboratory.intrinsic+json": {
              "summary": "{\n  \"name\": \"pd\",\n  \"rows\": 10,\n  \"fields\": [\n    {\n      \"column\": 0,\n      \"properties\": {\n        \"dtype\": \"number\",\n        \"std\": 283,\n        \"min\": 0,\n        \"max\": 900,\n        \"num_unique_values\": 5,\n        \"samples\": [\n          0,\n          4,\n          2\n        ],\n        \"semantic_type\": \"\",\n        \"description\": \"\"\n      }\n    },\n    {\n      \"column\": 1,\n      \"properties\": {\n        \"dtype\": \"number\",\n        \"std\": 335,\n        \"min\": 0,\n        \"max\": 1065,\n        \"num_unique_values\": 7,\n        \"samples\": [\n          0,\n          1065,\n          2\n        ],\n        \"semantic_type\": \"\",\n        \"description\": \"\"\n      }\n    },\n    {\n      \"column\": 2,\n      \"properties\": {\n        \"dtype\": \"number\",\n        \"std\": 255,\n        \"min\": 2,\n        \"max\": 815,\n        \"num_unique_values\": 9,\n        \"samples\": [\n          16,\n          5,\n          3\n        ],\n        \"semantic_type\": \"\",\n        \"description\": \"\"\n      }\n    },\n    {\n      \"column\": 3,\n      \"properties\": {\n        \"dtype\": \"number\",\n        \"std\": 264,\n        \"min\": 0,\n        \"max\": 842,\n        \"num_unique_values\": 7,\n        \"samples\": [\n          0,\n          5,\n          2\n        ],\n        \"semantic_type\": \"\",\n        \"description\": \"\"\n      }\n    },\n    {\n      \"column\": 4,\n      \"properties\": {\n        \"dtype\": \"number\",\n        \"std\": 251,\n        \"min\": 0,\n        \"max\": 803,\n        \"num_unique_values\": 9,\n        \"samples\": [\n          5,\n          0,\n          15\n        ],\n        \"semantic_type\": \"\",\n        \"description\": \"\"\n      }\n    },\n    {\n      \"column\": 5,\n      \"properties\": {\n        \"dtype\": \"number\",\n        \"std\": 234,\n        \"min\": 4,\n        \"max\": 758,\n        \"num_unique_values\": 8,\n        \"samples\": [\n          8,\n          30,\n          9\n        ],\n        \"semantic_type\": \"\",\n        \"description\": \"\"\n      }\n    },\n    {\n      \"column\": 6,\n      \"properties\": {\n        \"dtype\": \"number\",\n        \"std\": 279,\n        \"min\": 0,\n        \"max\": 893,\n        \"num_unique_values\": 9,\n        \"samples\": [\n          0,\n          2,\n          22\n        ],\n        \"semantic_type\": \"\",\n        \"description\": \"\"\n      }\n    },\n    {\n      \"column\": 7,\n      \"properties\": {\n        \"dtype\": \"number\",\n        \"std\": 280,\n        \"min\": 0,\n        \"max\": 892,\n        \"num_unique_values\": 7,\n        \"samples\": [\n          2,\n          3,\n          892\n        ],\n        \"semantic_type\": \"\",\n        \"description\": \"\"\n      }\n    },\n    {\n      \"column\": 8,\n      \"properties\": {\n        \"dtype\": \"number\",\n        \"std\": 254,\n        \"min\": 11,\n        \"max\": 835,\n        \"num_unique_values\": 9,\n        \"samples\": [\n          835,\n          37,\n          57\n        ],\n        \"semantic_type\": \"\",\n        \"description\": \"\"\n      }\n    },\n    {\n      \"column\": 9,\n      \"properties\": {\n        \"dtype\": \"number\",\n        \"std\": 289,\n        \"min\": 0,\n        \"max\": 937,\n        \"num_unique_values\": 9,\n        \"samples\": [\n          42,\n          4,\n          0\n        ],\n        \"semantic_type\": \"\",\n        \"description\": \"\"\n      }\n    }\n  ]\n}",
              "type": "dataframe"
            },
            "text/html": [
              "\n",
              "  <div id=\"df-8207775e-4d72-4c19-8a6b-e637acfe0bdb\" class=\"colab-df-container\">\n",
              "    <div>\n",
              "<style scoped>\n",
              "    .dataframe tbody tr th:only-of-type {\n",
              "        vertical-align: middle;\n",
              "    }\n",
              "\n",
              "    .dataframe tbody tr th {\n",
              "        vertical-align: top;\n",
              "    }\n",
              "\n",
              "    .dataframe thead th {\n",
              "        text-align: right;\n",
              "    }\n",
              "</style>\n",
              "<table border=\"1\" class=\"dataframe\">\n",
              "  <thead>\n",
              "    <tr style=\"text-align: right;\">\n",
              "      <th></th>\n",
              "      <th>0</th>\n",
              "      <th>1</th>\n",
              "      <th>2</th>\n",
              "      <th>3</th>\n",
              "      <th>4</th>\n",
              "      <th>5</th>\n",
              "      <th>6</th>\n",
              "      <th>7</th>\n",
              "      <th>8</th>\n",
              "      <th>9</th>\n",
              "    </tr>\n",
              "  </thead>\n",
              "  <tbody>\n",
              "    <tr>\n",
              "      <th>0</th>\n",
              "      <td>900</td>\n",
              "      <td>0</td>\n",
              "      <td>6</td>\n",
              "      <td>0</td>\n",
              "      <td>3</td>\n",
              "      <td>9</td>\n",
              "      <td>16</td>\n",
              "      <td>2</td>\n",
              "      <td>26</td>\n",
              "      <td>5</td>\n",
              "    </tr>\n",
              "    <tr>\n",
              "      <th>1</th>\n",
              "      <td>0</td>\n",
              "      <td>1065</td>\n",
              "      <td>5</td>\n",
              "      <td>5</td>\n",
              "      <td>0</td>\n",
              "      <td>8</td>\n",
              "      <td>2</td>\n",
              "      <td>2</td>\n",
              "      <td>37</td>\n",
              "      <td>5</td>\n",
              "    </tr>\n",
              "    <tr>\n",
              "      <th>2</th>\n",
              "      <td>2</td>\n",
              "      <td>5</td>\n",
              "      <td>815</td>\n",
              "      <td>5</td>\n",
              "      <td>13</td>\n",
              "      <td>13</td>\n",
              "      <td>26</td>\n",
              "      <td>3</td>\n",
              "      <td>64</td>\n",
              "      <td>4</td>\n",
              "    </tr>\n",
              "    <tr>\n",
              "      <th>3</th>\n",
              "      <td>0</td>\n",
              "      <td>4</td>\n",
              "      <td>36</td>\n",
              "      <td>842</td>\n",
              "      <td>1</td>\n",
              "      <td>42</td>\n",
              "      <td>5</td>\n",
              "      <td>6</td>\n",
              "      <td>50</td>\n",
              "      <td>32</td>\n",
              "    </tr>\n",
              "    <tr>\n",
              "      <th>4</th>\n",
              "      <td>0</td>\n",
              "      <td>1</td>\n",
              "      <td>8</td>\n",
              "      <td>1</td>\n",
              "      <td>803</td>\n",
              "      <td>8</td>\n",
              "      <td>8</td>\n",
              "      <td>1</td>\n",
              "      <td>18</td>\n",
              "      <td>37</td>\n",
              "    </tr>\n",
              "    <tr>\n",
              "      <th>5</th>\n",
              "      <td>6</td>\n",
              "      <td>5</td>\n",
              "      <td>3</td>\n",
              "      <td>32</td>\n",
              "      <td>15</td>\n",
              "      <td>758</td>\n",
              "      <td>22</td>\n",
              "      <td>2</td>\n",
              "      <td>57</td>\n",
              "      <td>14</td>\n",
              "    </tr>\n",
              "    <tr>\n",
              "      <th>6</th>\n",
              "      <td>2</td>\n",
              "      <td>2</td>\n",
              "      <td>4</td>\n",
              "      <td>1</td>\n",
              "      <td>3</td>\n",
              "      <td>30</td>\n",
              "      <td>893</td>\n",
              "      <td>0</td>\n",
              "      <td>11</td>\n",
              "      <td>0</td>\n",
              "    </tr>\n",
              "    <tr>\n",
              "      <th>7</th>\n",
              "      <td>4</td>\n",
              "      <td>0</td>\n",
              "      <td>16</td>\n",
              "      <td>2</td>\n",
              "      <td>18</td>\n",
              "      <td>4</td>\n",
              "      <td>0</td>\n",
              "      <td>892</td>\n",
              "      <td>18</td>\n",
              "      <td>77</td>\n",
              "    </tr>\n",
              "    <tr>\n",
              "      <th>8</th>\n",
              "      <td>4</td>\n",
              "      <td>7</td>\n",
              "      <td>3</td>\n",
              "      <td>13</td>\n",
              "      <td>5</td>\n",
              "      <td>28</td>\n",
              "      <td>10</td>\n",
              "      <td>3</td>\n",
              "      <td>835</td>\n",
              "      <td>42</td>\n",
              "    </tr>\n",
              "    <tr>\n",
              "      <th>9</th>\n",
              "      <td>2</td>\n",
              "      <td>2</td>\n",
              "      <td>2</td>\n",
              "      <td>5</td>\n",
              "      <td>24</td>\n",
              "      <td>4</td>\n",
              "      <td>0</td>\n",
              "      <td>15</td>\n",
              "      <td>20</td>\n",
              "      <td>937</td>\n",
              "    </tr>\n",
              "  </tbody>\n",
              "</table>\n",
              "</div>\n",
              "    <div class=\"colab-df-buttons\">\n",
              "\n",
              "  <div class=\"colab-df-container\">\n",
              "    <button class=\"colab-df-convert\" onclick=\"convertToInteractive('df-8207775e-4d72-4c19-8a6b-e637acfe0bdb')\"\n",
              "            title=\"Convert this dataframe to an interactive table.\"\n",
              "            style=\"display:none;\">\n",
              "\n",
              "  <svg xmlns=\"http://www.w3.org/2000/svg\" height=\"24px\" viewBox=\"0 -960 960 960\">\n",
              "    <path d=\"M120-120v-720h720v720H120Zm60-500h600v-160H180v160Zm220 220h160v-160H400v160Zm0 220h160v-160H400v160ZM180-400h160v-160H180v160Zm440 0h160v-160H620v160ZM180-180h160v-160H180v160Zm440 0h160v-160H620v160Z\"/>\n",
              "  </svg>\n",
              "    </button>\n",
              "\n",
              "  <style>\n",
              "    .colab-df-container {\n",
              "      display:flex;\n",
              "      gap: 12px;\n",
              "    }\n",
              "\n",
              "    .colab-df-convert {\n",
              "      background-color: #E8F0FE;\n",
              "      border: none;\n",
              "      border-radius: 50%;\n",
              "      cursor: pointer;\n",
              "      display: none;\n",
              "      fill: #1967D2;\n",
              "      height: 32px;\n",
              "      padding: 0 0 0 0;\n",
              "      width: 32px;\n",
              "    }\n",
              "\n",
              "    .colab-df-convert:hover {\n",
              "      background-color: #E2EBFA;\n",
              "      box-shadow: 0px 1px 2px rgba(60, 64, 67, 0.3), 0px 1px 3px 1px rgba(60, 64, 67, 0.15);\n",
              "      fill: #174EA6;\n",
              "    }\n",
              "\n",
              "    .colab-df-buttons div {\n",
              "      margin-bottom: 4px;\n",
              "    }\n",
              "\n",
              "    [theme=dark] .colab-df-convert {\n",
              "      background-color: #3B4455;\n",
              "      fill: #D2E3FC;\n",
              "    }\n",
              "\n",
              "    [theme=dark] .colab-df-convert:hover {\n",
              "      background-color: #434B5C;\n",
              "      box-shadow: 0px 1px 3px 1px rgba(0, 0, 0, 0.15);\n",
              "      filter: drop-shadow(0px 1px 2px rgba(0, 0, 0, 0.3));\n",
              "      fill: #FFFFFF;\n",
              "    }\n",
              "  </style>\n",
              "\n",
              "    <script>\n",
              "      const buttonEl =\n",
              "        document.querySelector('#df-8207775e-4d72-4c19-8a6b-e637acfe0bdb button.colab-df-convert');\n",
              "      buttonEl.style.display =\n",
              "        google.colab.kernel.accessAllowed ? 'block' : 'none';\n",
              "\n",
              "      async function convertToInteractive(key) {\n",
              "        const element = document.querySelector('#df-8207775e-4d72-4c19-8a6b-e637acfe0bdb');\n",
              "        const dataTable =\n",
              "          await google.colab.kernel.invokeFunction('convertToInteractive',\n",
              "                                                    [key], {});\n",
              "        if (!dataTable) return;\n",
              "\n",
              "        const docLinkHtml = 'Like what you see? Visit the ' +\n",
              "          '<a target=\"_blank\" href=https://colab.research.google.com/notebooks/data_table.ipynb>data table notebook</a>'\n",
              "          + ' to learn more about interactive tables.';\n",
              "        element.innerHTML = '';\n",
              "        dataTable['output_type'] = 'display_data';\n",
              "        await google.colab.output.renderOutput(dataTable, element);\n",
              "        const docLink = document.createElement('div');\n",
              "        docLink.innerHTML = docLinkHtml;\n",
              "        element.appendChild(docLink);\n",
              "      }\n",
              "    </script>\n",
              "  </div>\n",
              "\n",
              "\n",
              "<div id=\"df-004abe18-ae76-4f3c-b65c-66bf73138d4e\">\n",
              "  <button class=\"colab-df-quickchart\" onclick=\"quickchart('df-004abe18-ae76-4f3c-b65c-66bf73138d4e')\"\n",
              "            title=\"Suggest charts\"\n",
              "            style=\"display:none;\">\n",
              "\n",
              "<svg xmlns=\"http://www.w3.org/2000/svg\" height=\"24px\"viewBox=\"0 0 24 24\"\n",
              "     width=\"24px\">\n",
              "    <g>\n",
              "        <path d=\"M19 3H5c-1.1 0-2 .9-2 2v14c0 1.1.9 2 2 2h14c1.1 0 2-.9 2-2V5c0-1.1-.9-2-2-2zM9 17H7v-7h2v7zm4 0h-2V7h2v10zm4 0h-2v-4h2v4z\"/>\n",
              "    </g>\n",
              "</svg>\n",
              "  </button>\n",
              "\n",
              "<style>\n",
              "  .colab-df-quickchart {\n",
              "      --bg-color: #E8F0FE;\n",
              "      --fill-color: #1967D2;\n",
              "      --hover-bg-color: #E2EBFA;\n",
              "      --hover-fill-color: #174EA6;\n",
              "      --disabled-fill-color: #AAA;\n",
              "      --disabled-bg-color: #DDD;\n",
              "  }\n",
              "\n",
              "  [theme=dark] .colab-df-quickchart {\n",
              "      --bg-color: #3B4455;\n",
              "      --fill-color: #D2E3FC;\n",
              "      --hover-bg-color: #434B5C;\n",
              "      --hover-fill-color: #FFFFFF;\n",
              "      --disabled-bg-color: #3B4455;\n",
              "      --disabled-fill-color: #666;\n",
              "  }\n",
              "\n",
              "  .colab-df-quickchart {\n",
              "    background-color: var(--bg-color);\n",
              "    border: none;\n",
              "    border-radius: 50%;\n",
              "    cursor: pointer;\n",
              "    display: none;\n",
              "    fill: var(--fill-color);\n",
              "    height: 32px;\n",
              "    padding: 0;\n",
              "    width: 32px;\n",
              "  }\n",
              "\n",
              "  .colab-df-quickchart:hover {\n",
              "    background-color: var(--hover-bg-color);\n",
              "    box-shadow: 0 1px 2px rgba(60, 64, 67, 0.3), 0 1px 3px 1px rgba(60, 64, 67, 0.15);\n",
              "    fill: var(--button-hover-fill-color);\n",
              "  }\n",
              "\n",
              "  .colab-df-quickchart-complete:disabled,\n",
              "  .colab-df-quickchart-complete:disabled:hover {\n",
              "    background-color: var(--disabled-bg-color);\n",
              "    fill: var(--disabled-fill-color);\n",
              "    box-shadow: none;\n",
              "  }\n",
              "\n",
              "  .colab-df-spinner {\n",
              "    border: 2px solid var(--fill-color);\n",
              "    border-color: transparent;\n",
              "    border-bottom-color: var(--fill-color);\n",
              "    animation:\n",
              "      spin 1s steps(1) infinite;\n",
              "  }\n",
              "\n",
              "  @keyframes spin {\n",
              "    0% {\n",
              "      border-color: transparent;\n",
              "      border-bottom-color: var(--fill-color);\n",
              "      border-left-color: var(--fill-color);\n",
              "    }\n",
              "    20% {\n",
              "      border-color: transparent;\n",
              "      border-left-color: var(--fill-color);\n",
              "      border-top-color: var(--fill-color);\n",
              "    }\n",
              "    30% {\n",
              "      border-color: transparent;\n",
              "      border-left-color: var(--fill-color);\n",
              "      border-top-color: var(--fill-color);\n",
              "      border-right-color: var(--fill-color);\n",
              "    }\n",
              "    40% {\n",
              "      border-color: transparent;\n",
              "      border-right-color: var(--fill-color);\n",
              "      border-top-color: var(--fill-color);\n",
              "    }\n",
              "    60% {\n",
              "      border-color: transparent;\n",
              "      border-right-color: var(--fill-color);\n",
              "    }\n",
              "    80% {\n",
              "      border-color: transparent;\n",
              "      border-right-color: var(--fill-color);\n",
              "      border-bottom-color: var(--fill-color);\n",
              "    }\n",
              "    90% {\n",
              "      border-color: transparent;\n",
              "      border-bottom-color: var(--fill-color);\n",
              "    }\n",
              "  }\n",
              "</style>\n",
              "\n",
              "  <script>\n",
              "    async function quickchart(key) {\n",
              "      const quickchartButtonEl =\n",
              "        document.querySelector('#' + key + ' button');\n",
              "      quickchartButtonEl.disabled = true;  // To prevent multiple clicks.\n",
              "      quickchartButtonEl.classList.add('colab-df-spinner');\n",
              "      try {\n",
              "        const charts = await google.colab.kernel.invokeFunction(\n",
              "            'suggestCharts', [key], {});\n",
              "      } catch (error) {\n",
              "        console.error('Error during call to suggestCharts:', error);\n",
              "      }\n",
              "      quickchartButtonEl.classList.remove('colab-df-spinner');\n",
              "      quickchartButtonEl.classList.add('colab-df-quickchart-complete');\n",
              "    }\n",
              "    (() => {\n",
              "      let quickchartButtonEl =\n",
              "        document.querySelector('#df-004abe18-ae76-4f3c-b65c-66bf73138d4e button');\n",
              "      quickchartButtonEl.style.display =\n",
              "        google.colab.kernel.accessAllowed ? 'block' : 'none';\n",
              "    })();\n",
              "  </script>\n",
              "</div>\n",
              "\n",
              "    </div>\n",
              "  </div>\n"
            ],
            "text/plain": [
              "     0     1    2    3    4    5    6    7    8    9\n",
              "0  900     0    6    0    3    9   16    2   26    5\n",
              "1    0  1065    5    5    0    8    2    2   37    5\n",
              "2    2     5  815    5   13   13   26    3   64    4\n",
              "3    0     4   36  842    1   42    5    6   50   32\n",
              "4    0     1    8    1  803    8    8    1   18   37\n",
              "5    6     5    3   32   15  758   22    2   57   14\n",
              "6    2     2    4    1    3   30  893    0   11    0\n",
              "7    4     0   16    2   18    4    0  892   18   77\n",
              "8    4     7    3   13    5   28   10    3  835   42\n",
              "9    2     2    2    5   24    4    0   15   20  937"
            ]
          },
          "execution_count": 13,
          "metadata": {},
          "output_type": "execute_result"
        }
      ],
      "source": [
        "pd.DataFrame(confusion_matrix(y_test, y_test_pred))"
      ]
    },
    {
      "cell_type": "code",
      "source": [
        "import matplotlib.pyplot as plt\n",
        "import numpy as np\n",
        "\n",
        "# Data (replace with actual values if needed)\n",
        "classifiers = ['SVM_rbf', 'KNN', 'Random Forest', 'SGD']\n",
        "accuracy = [0.982, 0.973, 0.969, 0.878]  # Accuracy values\n",
        "recall = [0.9815, 0.9730, 0.9689, 0.8783]  # Recall values\n",
        "precision = [0.9815, 0.9729, 0.9690,  0.8876]  # Precision values\n",
        "f1_score = [0.9815, 0.9729, 0.9689,  0.8788]  # F1-Score values\n",
        "\n",
        "# Bar chart setup\n",
        "bar_width = 0.2  # Adjusted bar width for 4 bars\n",
        "index = np.arange(len(classifiers))\n",
        "\n",
        "# Create the figure and a single subplot\n",
        "plt.figure(figsize=(8, 6))\n",
        "\n",
        "# Plot Accuracy\n",
        "plt.bar(index, accuracy, bar_width, label='Accuracy', color='#1f77b4')\n",
        "\n",
        "# Plot Recall\n",
        "plt.bar(index + bar_width, recall, bar_width, label='Recall', color='#2ca02c')\n",
        "\n",
        "# Plot Precision\n",
        "plt.bar(index + 2 * bar_width, precision, bar_width, label='Precision', color='#ff7f0e')\n",
        "\n",
        "# Plot F1-Score\n",
        "plt.bar(index + 3 * bar_width, f1_score, bar_width, label='F1 Score', color='#d62728')\n",
        "\n",
        "# Set the y-axis limit to display only the range from 0.8 to 1.0\n",
        "plt.ylim(0.8, 1.0)\n",
        "\n",
        "# Adding labels and title\n",
        "plt.xlabel('Classifiers', fontsize=12, labelpad=10)\n",
        "plt.ylabel('Scores', fontsize=12, labelpad=10)\n",
        "#plt.title('Performance Metrics for Classifiers (0.8 to 1.0)', fontsize=16, pad=20)\n",
        "\n",
        "# Set x-ticks to classifiers\n",
        "plt.xticks(index + 1.5 * bar_width, classifiers)\n",
        "\n",
        "# Add a grid\n",
        "plt.grid(True, which='both', axis='y', linestyle='--', linewidth=0.7, alpha=0.7)\n",
        "\n",
        "# Add a legend inside the plot (above SGD)\n",
        "plt.legend(loc='upper right', bbox_to_anchor=(0.95, 0.95), fontsize=10)\n",
        "\n",
        "# Customize tick parameters\n",
        "plt.tick_params(axis='both', which='major', labelsize=10)\n",
        "\n",
        "# Adjust layout to fit everything\n",
        "plt.tight_layout()\n",
        "\n",
        "# Show the chart\n",
        "plt.show()\n"
      ],
      "metadata": {
        "colab": {
          "base_uri": "https://localhost:8080/",
          "height": 607
        },
        "id": "es31F6y7WxMW",
        "outputId": "a298b9df-6522-4fec-9e5f-1451e3fe80e3"
      },
      "execution_count": 44,
      "outputs": [
        {
          "output_type": "display_data",
          "data": {
            "text/plain": [
              "<Figure size 800x600 with 1 Axes>"
            ],
            "image/png": "[encoded data removed]"
          },
          "metadata": {}
        }
      ]
    },
    {
      "cell_type": "code",
      "source": [
        "import matplotlib.pyplot as plt\n",
        "import numpy as np\n",
        "\n",
        "# Data\n",
        "models = ['\\n SVM rbf Classifier', 'KNN Classifier', '\\n Random Forest Classifier ', 'SGD Classifier']\n",
        "Training_Time = [320.93, 0.01, 352.47, 177.71]  # Training times in seconds\n",
        "\n",
        "# Set up the figure and axis\n",
        "fig, ax = plt.subplots(figsize=(5, 7))\n",
        "\n",
        "# Plot Training Time on the primary y-axis\n",
        "x = np.arange(len(models))\n",
        "bar_width = 0.5  # Increased bar width for better visual impact\n",
        "bars = ax.bar(x, Training_Time, bar_width, color=['lightcoral', 'lightsalmon', 'lightgreen', 'lightblue'], edgecolor='black')\n",
        "\n",
        "# Add labels and title\n",
        "ax.set_ylabel('Training Time (s)', fontsize=12)\n",
        "#ax.set_xlabel('\\nMulti-Class Classifiers', fontsize=12)\n",
        "#ax.set_title('Training Time for Different Classifiers', fontsize=14)\n",
        "\n",
        "# Add value labels for Training Time on top of the bars\n",
        "for bar in bars:\n",
        "    yval = bar.get_height()\n",
        "    ax.text(bar.get_x() + bar.get_width()/2, yval + 5, f'{yval:.2f}', ha='center', va='bottom', fontsize=10)\n",
        "\n",
        "# Set the ticks and labels for the x-axis\n",
        "ax.set_xticks(x)\n",
        "ax.set_xticklabels(models)\n",
        "\n",
        "# Add grid lines for better readability\n",
        "ax.grid(axis='y', linestyle='--', linewidth=0.7, alpha=0.7)\n",
        "\n",
        "# Beautify the chart with tight layout and consistent formatting\n",
        "plt.tight_layout()\n",
        "\n",
        "# Show the plot\n",
        "plt.show()\n"
      ],
      "metadata": {
        "colab": {
          "base_uri": "https://localhost:8080/",
          "height": 707
        },
        "id": "oZ1394iKZQxr",
        "outputId": "6c9d8616-0461-47ee-a8a1-af39b561f0fa"
      },
      "execution_count": 45,
      "outputs": [
        {
          "output_type": "display_data",
          "data": {
            "text/plain": [
              "<Figure size 500x700 with 1 Axes>"
            ],
            "image/png": "[encoded data removed]"
          },
          "metadata": {}
        }
      ]
    }
  ],
  "metadata": {
    "colab": {
      "provenance": [],
      "gpuType": "T4",
      "authorship_tag": "ABX9TyOvbxp7QGmMEESct9AIPvrG",
      "include_colab_link": true
    },
    "kernelspec": {
      "display_name": "Python 3",
      "name": "python3"
    },
    "language_info": {
      "name": "python"
    },
    "accelerator": "GPU"
  },
  "nbformat": 4,
  "nbformat_minor": 0
}